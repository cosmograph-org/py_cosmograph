{
 "cells": [
  {
   "cell_type": "markdown",
   "metadata": {},
   "source": [
    "# Small graphs\n",
    "\n",
    "Here, we'll make a few small graphs and display them with `cosmograph`"
   ]
  },
  {
   "cell_type": "code",
   "execution_count": 34,
   "metadata": {},
   "outputs": [],
   "source": [
    "min_version = '0.0.20'\n",
    "\n",
    "try:\n",
    "    from packaging import version\n",
    "    cosmograph_version = getattr(__import__('cosmograph'), '__version__', None)\n",
    "    if cosmograph_version and version.parse(cosmograph_version) < version.parse(min_version):\n",
    "        print(f'Your cosmograph version was less than {min_version}. Upgrading to latest version...')\n",
    "        %pip install -U --quiet cosmograph\n",
    "except (ImportError, ModuleNotFoundError):\n",
    "    print('Cosmograph not installed. Will install latest version...')\n",
    "    %pip install --quiet cosmograph"
   ]
  },
  {
   "cell_type": "code",
   "execution_count": 3,
   "metadata": {},
   "outputs": [],
   "source": [
    "import pandas as pd\n",
    "from cosmograph import cosmo"
   ]
  },
  {
   "cell_type": "code",
   "execution_count": null,
   "metadata": {},
   "outputs": [
    {
     "data": {
      "application/vnd.jupyter.widget-view+json": {
       "model_id": "2d615d64a1a24942a93868b40016ee45",
       "version_major": 2,
       "version_minor": 0
      },
      "text/plain": [
       "Cosmograph(background_color=None, focused_point_ring_color=None, hovered_point_ring_color=None, link_color=Non…"
      ]
     },
     "execution_count": 20,
     "metadata": {},
     "output_type": "execute_result"
    }
   ],
   "source": [
    "single_link = {\n",
    "    'points': [{'id': '0'}, {'id': '1'}],\n",
    "    'links': [{'source': '0', 'target': '1'}],\n",
    "}\n",
    "\n",
    "points, links = map(pd.DataFrame, single_link.values())\n",
    "\n",
    "g = cosmo(\n",
    "    points=points, \n",
    "    links=links,\n",
    "    point_id_by='id',\n",
    "    link_source_by='source',\n",
    "    link_target_by='target',\n",
    "    simulation_gravity=0,\n",
    "    simulation_center=1,\n",
    ")\n",
    "g"
   ]
  },
  {
   "cell_type": "markdown",
   "metadata": {},
   "source": [
    "If your graph is small, it will tend to drift away (this is why we put an explicit `simulation_gravity` and `simulation_center`, to reduce that effect). But know this, you can always fit the view (`fit_view()`), to recenter things (and actually see your graph!)."
   ]
  },
  {
   "cell_type": "code",
   "execution_count": 21,
   "metadata": {},
   "outputs": [],
   "source": [
    "g.fit_view()"
   ]
  },
  {
   "cell_type": "markdown",
   "metadata": {},
   "source": [
    "We'll use the `linked` package to make some graphs in a quick and agreeable way.\n",
    "If you don't have `linked` you can `pip install linked`. "
   ]
  },
  {
   "cell_type": "code",
   "execution_count": null,
   "metadata": {},
   "outputs": [],
   "source": [
    "from functools import partial\n",
    "from linked import mini_dot_to_graph_jdict\n",
    "\n",
    "# customize the mini_dot_to_graph_jdict to use the field names we'll be using here\n",
    "# (You're basically saying \"this is what I want you to call nodes, links, etc.\")\n",
    "my_mini_dot = partial(\n",
    "    mini_dot_to_graph_jdict,\n",
    "    field_names=dict(\n",
    "        nodes='points', links='links', source='source', target='target', id='id'\n",
    "    ),\n",
    ")\n",
    "\n",
    "def points_and_links_from_mini_dot(mini_dot_str: str):\n",
    "    \"\"\"\n",
    "    Make points and links data from a mini_dot string and return them as DataFrames.\n",
    "    \"\"\"\n",
    "    g = my_mini_dot(mini_dot_str)\n",
    "    points, links = map(pd.DataFrame, [g['points'], g['links']])\n",
    "    return points, links\n",
    "\n"
   ]
  },
  {
   "cell_type": "markdown",
   "metadata": {},
   "source": [
    "If you don't want to "
   ]
  },
  {
   "cell_type": "code",
   "execution_count": null,
   "metadata": {},
   "outputs": [],
   "source": []
  },
  {
   "cell_type": "code",
   "execution_count": null,
   "metadata": {},
   "outputs": [],
   "source": []
  },
  {
   "cell_type": "code",
   "execution_count": 23,
   "metadata": {},
   "outputs": [
    {
     "data": {
      "text/plain": [
       "{}"
      ]
     },
     "execution_count": 23,
     "metadata": {},
     "output_type": "execute_result"
    }
   ],
   "source": [
    "from cosmograph.base import process_cosmo_input\n",
    "\n",
    "process_cosmo_input(None, {})"
   ]
  },
  {
   "cell_type": "code",
   "execution_count": null,
   "metadata": {},
   "outputs": [],
   "source": []
  },
  {
   "cell_type": "code",
   "execution_count": 15,
   "metadata": {},
   "outputs": [
    {
     "data": {
      "text/html": [
       "<div>\n",
       "<style scoped>\n",
       "    .dataframe tbody tr th:only-of-type {\n",
       "        vertical-align: middle;\n",
       "    }\n",
       "\n",
       "    .dataframe tbody tr th {\n",
       "        vertical-align: top;\n",
       "    }\n",
       "\n",
       "    .dataframe thead th {\n",
       "        text-align: right;\n",
       "    }\n",
       "</style>\n",
       "<table border=\"1\" class=\"dataframe\">\n",
       "  <thead>\n",
       "    <tr style=\"text-align: right;\">\n",
       "      <th></th>\n",
       "      <th>id</th>\n",
       "    </tr>\n",
       "  </thead>\n",
       "  <tbody>\n",
       "    <tr>\n",
       "      <th>0</th>\n",
       "      <td>1</td>\n",
       "    </tr>\n",
       "    <tr>\n",
       "      <th>1</th>\n",
       "      <td>2</td>\n",
       "    </tr>\n",
       "    <tr>\n",
       "      <th>2</th>\n",
       "      <td>5</td>\n",
       "    </tr>\n",
       "    <tr>\n",
       "      <th>3</th>\n",
       "      <td>6</td>\n",
       "    </tr>\n",
       "    <tr>\n",
       "      <th>4</th>\n",
       "      <td>7</td>\n",
       "    </tr>\n",
       "    <tr>\n",
       "      <th>5</th>\n",
       "      <td>3</td>\n",
       "    </tr>\n",
       "  </tbody>\n",
       "</table>\n",
       "</div>"
      ],
      "text/plain": [
       "  id\n",
       "0  1\n",
       "1  2\n",
       "2  5\n",
       "3  6\n",
       "4  7\n",
       "5  3"
      ]
     },
     "execution_count": 15,
     "metadata": {},
     "output_type": "execute_result"
    }
   ],
   "source": [
    "\n",
    "from cosmograph import cosmo\n",
    "cosmo(\n",
    "    points=points,\n",
    "    links=links,\n",
    "    point_id_by='id',\n",
    "    link_source_by='source',\n",
    "    link_target_by='target',\n",
    ")"
   ]
  },
  {
   "cell_type": "code",
   "execution_count": 16,
   "metadata": {},
   "outputs": [
    {
     "data": {
      "text/html": [
       "<div>\n",
       "<style scoped>\n",
       "    .dataframe tbody tr th:only-of-type {\n",
       "        vertical-align: middle;\n",
       "    }\n",
       "\n",
       "    .dataframe tbody tr th {\n",
       "        vertical-align: top;\n",
       "    }\n",
       "\n",
       "    .dataframe thead th {\n",
       "        text-align: right;\n",
       "    }\n",
       "</style>\n",
       "<table border=\"1\" class=\"dataframe\">\n",
       "  <thead>\n",
       "    <tr style=\"text-align: right;\">\n",
       "      <th></th>\n",
       "      <th>source</th>\n",
       "      <th>target</th>\n",
       "    </tr>\n",
       "  </thead>\n",
       "  <tbody>\n",
       "    <tr>\n",
       "      <th>0</th>\n",
       "      <td>1</td>\n",
       "      <td>2</td>\n",
       "    </tr>\n",
       "    <tr>\n",
       "      <th>1</th>\n",
       "      <td>2</td>\n",
       "      <td>5</td>\n",
       "    </tr>\n",
       "    <tr>\n",
       "      <th>2</th>\n",
       "      <td>2</td>\n",
       "      <td>6</td>\n",
       "    </tr>\n",
       "    <tr>\n",
       "      <th>3</th>\n",
       "      <td>2</td>\n",
       "      <td>7</td>\n",
       "    </tr>\n",
       "    <tr>\n",
       "      <th>4</th>\n",
       "      <td>3</td>\n",
       "      <td>5</td>\n",
       "    </tr>\n",
       "    <tr>\n",
       "      <th>5</th>\n",
       "      <td>3</td>\n",
       "      <td>6</td>\n",
       "    </tr>\n",
       "    <tr>\n",
       "      <th>6</th>\n",
       "      <td>3</td>\n",
       "      <td>7</td>\n",
       "    </tr>\n",
       "  </tbody>\n",
       "</table>\n",
       "</div>"
      ],
      "text/plain": [
       "  source target\n",
       "0      1      2\n",
       "1      2      5\n",
       "2      2      6\n",
       "3      2      7\n",
       "4      3      5\n",
       "5      3      6\n",
       "6      3      7"
      ]
     },
     "execution_count": 16,
     "metadata": {},
     "output_type": "execute_result"
    }
   ],
   "source": [
    "links"
   ]
  },
  {
   "cell_type": "code",
   "execution_count": 7,
   "metadata": {},
   "outputs": [
    {
     "data": {
      "text/html": [
       "<div>\n",
       "<style scoped>\n",
       "    .dataframe tbody tr th:only-of-type {\n",
       "        vertical-align: middle;\n",
       "    }\n",
       "\n",
       "    .dataframe tbody tr th {\n",
       "        vertical-align: top;\n",
       "    }\n",
       "\n",
       "    .dataframe thead th {\n",
       "        text-align: right;\n",
       "    }\n",
       "</style>\n",
       "<table border=\"1\" class=\"dataframe\">\n",
       "  <thead>\n",
       "    <tr style=\"text-align: right;\">\n",
       "      <th></th>\n",
       "      <th>source</th>\n",
       "      <th>sourceidx</th>\n",
       "      <th>date</th>\n",
       "      <th>time</th>\n",
       "      <th>color</th>\n",
       "      <th>target</th>\n",
       "      <th>targetidx</th>\n",
       "      <th>value</th>\n",
       "    </tr>\n",
       "  </thead>\n",
       "  <tbody>\n",
       "    <tr>\n",
       "      <th>0</th>\n",
       "      <td>0</td>\n",
       "      <td>0</td>\n",
       "      <td>2012-02-08 11:17:27.900000+00:00</td>\n",
       "      <td>1970-01-01T01:06:54.149Z</td>\n",
       "      <td>#4e79a7</td>\n",
       "      <td>1</td>\n",
       "      <td>1</td>\n",
       "      <td>1</td>\n",
       "    </tr>\n",
       "    <tr>\n",
       "      <th>1</th>\n",
       "      <td>0</td>\n",
       "      <td>0</td>\n",
       "      <td>2012-02-08 11:17:27.900000+00:00</td>\n",
       "      <td>1970-01-01T01:06:54.149Z</td>\n",
       "      <td>#4e79a7</td>\n",
       "      <td>92</td>\n",
       "      <td>92</td>\n",
       "      <td>9</td>\n",
       "    </tr>\n",
       "    <tr>\n",
       "      <th>2</th>\n",
       "      <td>1</td>\n",
       "      <td>1</td>\n",
       "      <td>2012-10-10 20:58:18.664000+00:00</td>\n",
       "      <td>1970-01-01T01:33:27.754Z</td>\n",
       "      <td>#af7aa1</td>\n",
       "      <td>2</td>\n",
       "      <td>2</td>\n",
       "      <td>3</td>\n",
       "    </tr>\n",
       "    <tr>\n",
       "      <th>3</th>\n",
       "      <td>1</td>\n",
       "      <td>1</td>\n",
       "      <td>2012-10-10 20:58:18.664000+00:00</td>\n",
       "      <td>1970-01-01T01:33:27.754Z</td>\n",
       "      <td>#af7aa1</td>\n",
       "      <td>93</td>\n",
       "      <td>93</td>\n",
       "      <td>4</td>\n",
       "    </tr>\n",
       "    <tr>\n",
       "      <th>4</th>\n",
       "      <td>2</td>\n",
       "      <td>2</td>\n",
       "      <td>2013-01-20 10:49:31.343000+00:00</td>\n",
       "      <td>1970-01-01T02:25:52.892Z</td>\n",
       "      <td>#ff9da7</td>\n",
       "      <td>3</td>\n",
       "      <td>3</td>\n",
       "      <td>6</td>\n",
       "    </tr>\n",
       "    <tr>\n",
       "      <th>...</th>\n",
       "      <td>...</td>\n",
       "      <td>...</td>\n",
       "      <td>...</td>\n",
       "      <td>...</td>\n",
       "      <td>...</td>\n",
       "      <td>...</td>\n",
       "      <td>...</td>\n",
       "      <td>...</td>\n",
       "    </tr>\n",
       "    <tr>\n",
       "      <th>16373</th>\n",
       "      <td>8274</td>\n",
       "      <td>8274</td>\n",
       "      <td>2016-04-18 22:18:42.012000+00:00</td>\n",
       "      <td>1970-01-01T00:25:07.895Z</td>\n",
       "      <td>#e15759</td>\n",
       "      <td>8275</td>\n",
       "      <td>8275</td>\n",
       "      <td>7</td>\n",
       "    </tr>\n",
       "    <tr>\n",
       "      <th>16374</th>\n",
       "      <td>8275</td>\n",
       "      <td>8275</td>\n",
       "      <td>2016-01-24 21:27:19.899000+00:00</td>\n",
       "      <td>1970-01-01T01:23:04.457Z</td>\n",
       "      <td>#e15759</td>\n",
       "      <td>8276</td>\n",
       "      <td>8276</td>\n",
       "      <td>8</td>\n",
       "    </tr>\n",
       "    <tr>\n",
       "      <th>16375</th>\n",
       "      <td>8276</td>\n",
       "      <td>8276</td>\n",
       "      <td>2013-09-30 11:11:20.394000+00:00</td>\n",
       "      <td>1970-01-01T02:40:55.245Z</td>\n",
       "      <td>#9c755f</td>\n",
       "      <td>8277</td>\n",
       "      <td>8277</td>\n",
       "      <td>1</td>\n",
       "    </tr>\n",
       "    <tr>\n",
       "      <th>16376</th>\n",
       "      <td>8277</td>\n",
       "      <td>8277</td>\n",
       "      <td>2016-07-25 12:42:05.251000+00:00</td>\n",
       "      <td>1970-01-01T00:34:30.523Z</td>\n",
       "      <td>#af7aa1</td>\n",
       "      <td>8278</td>\n",
       "      <td>8278</td>\n",
       "      <td>7</td>\n",
       "    </tr>\n",
       "    <tr>\n",
       "      <th>16377</th>\n",
       "      <td>8278</td>\n",
       "      <td>8278</td>\n",
       "      <td>2021-11-15 19:45:31.936000+00:00</td>\n",
       "      <td>1970-01-01T00:40:37.802Z</td>\n",
       "      <td>#4e79a7</td>\n",
       "      <td>8279</td>\n",
       "      <td>8279</td>\n",
       "      <td>5</td>\n",
       "    </tr>\n",
       "  </tbody>\n",
       "</table>\n",
       "<p>16378 rows × 8 columns</p>\n",
       "</div>"
      ],
      "text/plain": [
       "       source sourceidx                             date  \\\n",
       "0           0         0 2012-02-08 11:17:27.900000+00:00   \n",
       "1           0         0 2012-02-08 11:17:27.900000+00:00   \n",
       "2           1         1 2012-10-10 20:58:18.664000+00:00   \n",
       "3           1         1 2012-10-10 20:58:18.664000+00:00   \n",
       "4           2         2 2013-01-20 10:49:31.343000+00:00   \n",
       "...       ...       ...                              ...   \n",
       "16373    8274      8274 2016-04-18 22:18:42.012000+00:00   \n",
       "16374    8275      8275 2016-01-24 21:27:19.899000+00:00   \n",
       "16375    8276      8276 2013-09-30 11:11:20.394000+00:00   \n",
       "16376    8277      8277 2016-07-25 12:42:05.251000+00:00   \n",
       "16377    8278      8278 2021-11-15 19:45:31.936000+00:00   \n",
       "\n",
       "                           time    color  target targetidx  value  \n",
       "0      1970-01-01T01:06:54.149Z  #4e79a7       1         1      1  \n",
       "1      1970-01-01T01:06:54.149Z  #4e79a7      92        92      9  \n",
       "2      1970-01-01T01:33:27.754Z  #af7aa1       2         2      3  \n",
       "3      1970-01-01T01:33:27.754Z  #af7aa1      93        93      4  \n",
       "4      1970-01-01T02:25:52.892Z  #ff9da7       3         3      6  \n",
       "...                         ...      ...     ...       ...    ...  \n",
       "16373  1970-01-01T00:25:07.895Z  #e15759    8275      8275      7  \n",
       "16374  1970-01-01T01:23:04.457Z  #e15759    8276      8276      8  \n",
       "16375  1970-01-01T02:40:55.245Z  #9c755f    8277      8277      1  \n",
       "16376  1970-01-01T00:34:30.523Z  #af7aa1    8278      8278      7  \n",
       "16377  1970-01-01T00:40:37.802Z  #4e79a7    8279      8279      5  \n",
       "\n",
       "[16378 rows x 8 columns]"
      ]
     },
     "execution_count": 7,
     "metadata": {},
     "output_type": "execute_result"
    }
   ],
   "source": [
    "links"
   ]
  },
  {
   "cell_type": "code",
   "execution_count": 1,
   "metadata": {},
   "outputs": [
    {
     "name": "stdout",
     "output_type": "stream",
     "text": [
      "points.shape=(8280, 8)\n",
      "links.shape=(16378, 8)\n"
     ]
    },
    {
     "data": {
      "application/vnd.jupyter.widget-view+json": {
       "model_id": "b4c8512c587343279bd5899f282005f9",
       "version_major": 2,
       "version_minor": 0
      },
      "text/plain": [
       "Cosmograph(background_color=None, focused_point_ring_color=None, hovered_point_ring_color=None, link_color=Non…"
      ]
     },
     "execution_count": 1,
     "metadata": {},
     "output_type": "execute_result"
    }
   ],
   "source": [
    "import pandas as pd\n",
    "\n",
    "points = pd.read_json('https://gist.githubusercontent.com/Stukova/d2a3bb22c90680b6beaf8a52c3470296/raw/a80fb63f4f4f0135f827c23aff43183de61a153d/points.json', dtype={'id': str})\n",
    "print(f\"{points.shape=}\")\n",
    "links = pd.read_json('https://gist.githubusercontent.com/Stukova/d2a3bb22c90680b6beaf8a52c3470296/raw/a80fb63f4f4f0135f827c23aff43183de61a153d/links.json', dtype={'sourceidx': str, 'targetidx': str})\n",
    "print(f\"{links.shape=}\")\n",
    "\n",
    "from cosmograph_widget import Cosmograph\n",
    "\n",
    "Cosmograph(\n",
    "    points=points,\n",
    "    links=links,\n",
    "    point_id_by='id',\n",
    "    link_source_by='source',\n",
    "    link_target_by='target',\n",
    "    point_include_columns=['value'],\n",
    "    point_label_by='label',\n",
    "    link_include_columns=['value'],\n",
    ")"
   ]
  },
  {
   "cell_type": "code",
   "execution_count": 2,
   "metadata": {},
   "outputs": [
    {
     "ename": "ModuleNotFoundError",
     "evalue": "No module named 'cosmograph_widget'",
     "output_type": "error",
     "traceback": [
      "\u001b[0;31m---------------------------------------------------------------------------\u001b[0m",
      "\u001b[0;31mModuleNotFoundError\u001b[0m                       Traceback (most recent call last)",
      "Cell \u001b[0;32mIn[2], line 1\u001b[0m\n\u001b[0;32m----> 1\u001b[0m \u001b[38;5;28;01mfrom\u001b[39;00m \u001b[38;5;21;01mcosmograph_widget\u001b[39;00m \u001b[38;5;28;01mimport\u001b[39;00m Cosmograph\n\u001b[1;32m      3\u001b[0m Cosmograph(\n\u001b[1;32m      4\u001b[0m     points\u001b[38;5;241m=\u001b[39mpoints,\n\u001b[1;32m      5\u001b[0m     links\u001b[38;5;241m=\u001b[39mlinks,\n\u001b[0;32m   (...)\u001b[0m\n\u001b[1;32m     11\u001b[0m     link_include_columns\u001b[38;5;241m=\u001b[39m[\u001b[38;5;124m'\u001b[39m\u001b[38;5;124mvalue\u001b[39m\u001b[38;5;124m'\u001b[39m],\n\u001b[1;32m     12\u001b[0m )\n",
      "\u001b[0;31mModuleNotFoundError\u001b[0m: No module named 'cosmograph_widget'"
     ]
    }
   ],
   "source": [
    "from cosmograph_widget import Cosmograph\n",
    "\n",
    "Cosmograph(\n",
    "    points=points,\n",
    "    links=links,\n",
    "    point_id_by='id',\n",
    "    link_source_by='source',\n",
    "    link_target_by='target',\n",
    "    point_include_columns=['value'],\n",
    "    point_label_by='label',\n",
    "    link_include_columns=['value'],\n",
    ")"
   ]
  },
  {
   "cell_type": "code",
   "execution_count": 9,
   "metadata": {},
   "outputs": [
    {
     "data": {
      "text/plain": [
       "[]"
      ]
     },
     "execution_count": 9,
     "metadata": {},
     "output_type": "execute_result"
    }
   ],
   "source": [
    "def _get_pkg_dir_and_name(pkg_dir):\n",
    "    import os\n",
    "    pkg_dir = os.path.realpath(pkg_dir)\n",
    "    if pkg_dir.endswith(os.sep):\n",
    "        pkg_dir = pkg_dir[:-1]\n",
    "    pkg_dirname = os.path.basename(pkg_dir)\n",
    "    return pkg_dir, pkg_dirname\n",
    "\n",
    "import cosmograph\n",
    "cosmograph.__file__\n",
    "\n",
    "_get_pkg_dir_and_name('/Users/thorwhalen/Dropbox/py/proj/c/')\n",
    "from wads.pack import folders_that_have_init_py_files\n",
    "\n",
    "folders_that_have_init_py_files('/Users/thorwhalen/Dropbox/py/proj/c/cosmograph')"
   ]
  },
  {
   "cell_type": "code",
   "execution_count": 1,
   "metadata": {},
   "outputs": [
    {
     "ename": "NameError",
     "evalue": "name 'points' is not defined",
     "output_type": "error",
     "traceback": [
      "\u001b[0;31m---------------------------------------------------------------------------\u001b[0m",
      "\u001b[0;31mNameError\u001b[0m                                 Traceback (most recent call last)",
      "Cell \u001b[0;32mIn[1], line 4\u001b[0m\n\u001b[1;32m      1\u001b[0m \u001b[38;5;28;01mfrom\u001b[39;00m \u001b[38;5;21;01mcosmograph_widget\u001b[39;00m \u001b[38;5;28;01mimport\u001b[39;00m Cosmograph\n\u001b[1;32m      3\u001b[0m Cosmograph(\n\u001b[0;32m----> 4\u001b[0m     points\u001b[38;5;241m=\u001b[39m\u001b[43mpoints\u001b[49m,\n\u001b[1;32m      5\u001b[0m     links\u001b[38;5;241m=\u001b[39mlinks,\n\u001b[1;32m      6\u001b[0m     point_id_by\u001b[38;5;241m=\u001b[39m\u001b[38;5;124m'\u001b[39m\u001b[38;5;124mid\u001b[39m\u001b[38;5;124m'\u001b[39m,\n\u001b[1;32m      7\u001b[0m     link_source_by\u001b[38;5;241m=\u001b[39m\u001b[38;5;124m'\u001b[39m\u001b[38;5;124msource\u001b[39m\u001b[38;5;124m'\u001b[39m,\n\u001b[1;32m      8\u001b[0m     link_target_by\u001b[38;5;241m=\u001b[39m\u001b[38;5;124m'\u001b[39m\u001b[38;5;124mtarget\u001b[39m\u001b[38;5;124m'\u001b[39m,\n\u001b[1;32m      9\u001b[0m     point_include_columns\u001b[38;5;241m=\u001b[39m[\u001b[38;5;124m'\u001b[39m\u001b[38;5;124mvalue\u001b[39m\u001b[38;5;124m'\u001b[39m],\n\u001b[1;32m     10\u001b[0m     point_label_by\u001b[38;5;241m=\u001b[39m\u001b[38;5;124m'\u001b[39m\u001b[38;5;124mlabel\u001b[39m\u001b[38;5;124m'\u001b[39m,\n\u001b[1;32m     11\u001b[0m     link_include_columns\u001b[38;5;241m=\u001b[39m[\u001b[38;5;124m'\u001b[39m\u001b[38;5;124mvalue\u001b[39m\u001b[38;5;124m'\u001b[39m],\n\u001b[1;32m     12\u001b[0m )\n",
      "\u001b[0;31mNameError\u001b[0m: name 'points' is not defined"
     ]
    }
   ],
   "source": [
    "from cosmograph_widget import Cosmograph\n",
    "\n",
    "Cosmograph(\n",
    "    points=points,\n",
    "    links=links,\n",
    "    point_id_by='id',\n",
    "    link_source_by='source',\n",
    "    link_target_by='target',\n",
    "    point_include_columns=['value'],\n",
    "    point_label_by='label',\n",
    "    link_include_columns=['value'],\n",
    ")"
   ]
  },
  {
   "cell_type": "code",
   "execution_count": 1,
   "metadata": {},
   "outputs": [],
   "source": [
    "from linked import mini_dot_to_graph_jdict"
   ]
  },
  {
   "cell_type": "code",
   "execution_count": 4,
   "metadata": {},
   "outputs": [
    {
     "data": {
      "text/plain": [
       "{'nodes': [{'id': '1'},\n",
       "  {'id': '2'},\n",
       "  {'id': '5'},\n",
       "  {'id': '6'},\n",
       "  {'id': '7'},\n",
       "  {'id': '3'}],\n",
       " 'links': [{'source': '1', 'target': '2'},\n",
       "  {'source': '2', 'target': '5'},\n",
       "  {'source': '2', 'target': '6'},\n",
       "  {'source': '2', 'target': '7'},\n",
       "  {'source': '3', 'target': '5'},\n",
       "  {'source': '3', 'target': '6'},\n",
       "  {'source': '3', 'target': '7'}]}"
      ]
     },
     "execution_count": 4,
     "metadata": {},
     "output_type": "execute_result"
    }
   ],
   "source": [
    "mini_dot_to_graph_jdict(\"\"\"\n",
    "    1 -> 2\n",
    "    2, 3 -> 5, 6, 7\n",
    "\"\"\")"
   ]
  },
  {
   "cell_type": "code",
   "execution_count": 16,
   "metadata": {},
   "outputs": [
    {
     "data": {
      "application/vnd.jupyter.widget-view+json": {
       "model_id": "82f2cb7b26e64fc99867866ab335e84b",
       "version_major": 2,
       "version_minor": 0
      },
      "text/plain": [
       "Cosmograph(background_color=None, focused_point_ring_color=None, hovered_point_ring_color=None, link_color=Non…"
      ]
     },
     "execution_count": 16,
     "metadata": {},
     "output_type": "execute_result"
    }
   ],
   "source": [
    "\n",
    "small_bipartite_graph = mini_dot_to_graph_jdict(\"\"\"\n",
    "    1, 2, 3, 4 -> 5, 6, 7\n",
    "\"\"\")\n",
    "\n",
    "pentagon = mini_dot_to_graph_jdict(\"\"\"\n",
    "    1 -> 2\n",
    "    2 -> 3\n",
    "    3 -> 4\n",
    "    4 -> 5\n",
    "    5 -> 1\n",
    "\"\"\")\n",
    "\n",
    "six_path = mini_dot_to_graph_jdict(\"\"\"\n",
    "    1 -> 2\n",
    "    2 -> 3\n",
    "    3 -> 4\n",
    "    4 -> 5\n",
    "    5 -> 6\n",
    "\"\"\")\n",
    "\n",
    "\n",
    "t = small_bipartite_graph\n",
    "points, links = map(pd.DataFrame, [t['nodes'], t['links']])\n",
    "\n",
    "g = cosmo(\n",
    "    points=points, \n",
    "    links=links,\n",
    "    point_id_by='id',\n",
    "    link_source_by='source',\n",
    "    link_target_by='target',\n",
    "    simulation_gravity=0,\n",
    ")\n",
    "g\n"
   ]
  },
  {
   "cell_type": "code",
   "execution_count": null,
   "metadata": {},
   "outputs": [],
   "source": []
  },
  {
   "cell_type": "code",
   "execution_count": null,
   "metadata": {},
   "outputs": [],
   "source": [
    "\n",
    "def path(self, n):\n",
    "    return mini_dot_to_graph_jdict(\n",
    "        \"\\n\".join(f\"{i} -> {i+1}\" for i in range(1, n))\n",
    "    )\n",
    "\n",
    "def cycle(self, n):\n",
    "    return mini_dot_to_graph_jdict(\n",
    "        \"\\n\".join(f\"{i} -> {i+1}\" for i in range(1, n))\n",
    "        + f\"\\n{n} -> 1\"\n",
    "    )   \n",
    "\n",
    "def bipartite(self, n, m):\n",
    "    return mini_dot_to_graph_jdict(\n",
    "        \"\\n\".join(f\"{i} -> {j}\" for i in range(1, n+1) for j in range(n+1, n+m+1))\n",
    "    )\n"
   ]
  },
  {
   "cell_type": "code",
   "execution_count": null,
   "metadata": {},
   "outputs": [],
   "source": []
  },
  {
   "cell_type": "code",
   "execution_count": null,
   "metadata": {},
   "outputs": [],
   "source": []
  }
 ],
 "metadata": {
  "kernelspec": {
   "display_name": "p10",
   "language": "python",
   "name": "python3"
  },
  "language_info": {
   "codemirror_mode": {
    "name": "ipython",
    "version": 3
   },
   "file_extension": ".py",
   "mimetype": "text/x-python",
   "name": "python",
   "nbconvert_exporter": "python",
   "pygments_lexer": "ipython3",
   "version": "3.10.13"
  }
 },
 "nbformat": 4,
 "nbformat_minor": 2
}
