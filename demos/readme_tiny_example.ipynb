{
 "cells": [
  {
   "cell_type": "code",
   "execution_count": 1,
   "id": "1d977c8e-150b-4934-9142-d6f80604b9c3",
   "metadata": {},
   "outputs": [],
   "source": [
    "import pandas as pd\n",
    "from cosmograph import cosmo"
   ]
  },
  {
   "cell_type": "code",
   "execution_count": 2,
   "id": "2b05e968-dd50-4284-89a5-67ecce6195da",
   "metadata": {},
   "outputs": [],
   "source": [
    "points = pd.DataFrame({\n",
    "    'id': [1, 2, 3, 4, 5],\n",
    "    'label': ['Node A', 'Node B', 'Node C', 'Node D', 'Node E'],\n",
    "    'value': [10, 20, 15, 25, 30],\n",
    "    'category': ['A', 'B', 'A', 'B', 'A']\n",
    "})"
   ]
  },
  {
   "cell_type": "code",
   "execution_count": 3,
   "id": "dd881520-227c-49ec-ab55-b11b6063d410",
   "metadata": {},
   "outputs": [],
   "source": [
    "links = pd.DataFrame({\n",
    "    'source': [1, 2, 3, 1, 2],\n",
    "    'target': [2, 3, 4, 5, 4],\n",
    "    'value': [1.0, 2.0, 1.5, 0.5, 1.8]\n",
    "})"
   ]
  },
  {
   "cell_type": "code",
   "execution_count": 4,
   "id": "dc71b9e0-ca29-4166-b995-3885b503164d",
   "metadata": {},
   "outputs": [
    {
     "data": {
      "application/vnd.jupyter.widget-view+json": {
       "model_id": "a1cec65bb73a45d3a1e276538e717d8f",
       "version_major": 2,
       "version_minor": 1
      },
      "text/plain": [
       "Cosmograph(background_color=None, focused_point_ring_color=None, hovered_point_ring_color=None, link_color=Non…"
      ]
     },
     "execution_count": 4,
     "metadata": {},
     "output_type": "execute_result"
    }
   ],
   "source": [
    "cosmo(\n",
    "  points=points,\n",
    "  links=links,\n",
    "  point_id_by='id',\n",
    "  link_source_by='source',\n",
    "  link_target_by='target',\n",
    "  point_color_by='category',\n",
    "  point_label_by='label',\n",
    "  point_size_by='value'\n",
    ")"
   ]
  },
  {
   "cell_type": "code",
   "execution_count": null,
   "id": "b90ee685-0a02-4a19-8ebb-1e10347588dd",
   "metadata": {},
   "outputs": [],
   "source": []
  },
  {
   "cell_type": "code",
   "execution_count": null,
   "id": "e2e703bf",
   "metadata": {},
   "outputs": [],
   "source": []
  }
 ],
 "metadata": {
  "kernelspec": {
   "display_name": "venv",
   "language": "python",
   "name": "python3"
  },
  "language_info": {
   "codemirror_mode": {
    "name": "ipython",
    "version": 3
   },
   "file_extension": ".py",
   "mimetype": "text/x-python",
   "name": "python",
   "nbconvert_exporter": "python",
   "pygments_lexer": "ipython3",
   "version": "3.13.1"
  }
 },
 "nbformat": 4,
 "nbformat_minor": 5
}
