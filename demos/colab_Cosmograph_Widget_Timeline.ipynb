{
 "cells": [
  {
   "cell_type": "markdown",
   "metadata": {},
   "source": [
    "Timeline in Cosmograph Widget ⏳\n",
    "\n",
    "https://colab.research.google.com/drive/1fK7SLsoMFiDt9_42z9W7jo0z43yCL-CR"
   ]
  },
  {
   "cell_type": "markdown",
   "metadata": {},
   "source": [
    "# Visualizing Time-Based Networks with Cosmograph: An Interactive Journey"
   ]
  },
  {
   "cell_type": "code",
   "execution_count": 18,
   "metadata": {},
   "outputs": [],
   "source": [
    "# Install Cosmograph Widget\n",
    "# !pip install --quiet cosmograph"
   ]
  },
  {
   "cell_type": "code",
   "execution_count": 19,
   "metadata": {},
   "outputs": [],
   "source": [
    "import pandas as pd\n",
    "from cosmograph import cosmo  # see help a bit further below"
   ]
  },
  {
   "cell_type": "code",
   "execution_count": 20,
   "metadata": {},
   "outputs": [
    {
     "name": "stdout",
     "output_type": "stream",
     "text": [
      "points.shape=(8280, 8)\n",
      "links.shape=(16378, 8)\n"
     ]
    }
   ],
   "source": [
    "points = pd.read_json('https://gist.githubusercontent.com/Stukova/d2a3bb22c90680b6beaf8a52c3470296/raw/a80fb63f4f4f0135f827c23aff43183de61a153d/points.json', dtype={'id': str})\n",
    "links = pd.read_json('https://gist.githubusercontent.com/Stukova/d2a3bb22c90680b6beaf8a52c3470296/raw/a80fb63f4f4f0135f827c23aff43183de61a153d/links.json', dtype={'sourceidx': str, 'targetidx': str})\n",
    "print(f\"{points.shape=}\\n{links.shape=}\")"
   ]
  },
  {
   "cell_type": "code",
   "execution_count": 21,
   "metadata": {},
   "outputs": [
    {
     "data": {
      "application/vnd.jupyter.widget-view+json": {
       "model_id": "a46532de506349c7856c8ecbb61ade48",
       "version_major": 2,
       "version_minor": 1
      },
      "text/plain": [
       "Cosmograph(background_color=None, disable_point_size_legend=True, focused_point_ring_color=None, hovered_point…"
      ]
     },
     "execution_count": 21,
     "metadata": {},
     "output_type": "execute_result"
    }
   ],
   "source": [
    "graph = cosmo(\n",
    "  # Data backbone\n",
    "  points=points,\n",
    "  links=links,\n",
    "\n",
    "  # Point configuration\n",
    "  point_id_by='id',\n",
    "  point_color_by='label',\n",
    "  point_size_by='value',\n",
    "  point_label_by='label',\n",
    "  disable_point_size_legend=True, # Simplify UI\n",
    "\n",
    "  # Link configuration\n",
    "  link_source_by='source',\n",
    "  link_target_by='target',\n",
    "\n",
    "  # Timeline activation\n",
    "  point_timeline_by='date'\n",
    ")\n",
    "graph"
   ]
  },
  {
   "cell_type": "markdown",
   "metadata": {},
   "source": [
    "### Creating Temporal Subsets"
   ]
  },
  {
   "cell_type": "markdown",
   "metadata": {},
   "source": [
    "1. **Timeline Selection**: Drag the timeline range selector to focus on specific time periods"
   ]
  },
  {
   "cell_type": "code",
   "execution_count": 22,
   "metadata": {},
   "outputs": [
    {
     "data": {
      "text/plain": [
       "494"
      ]
     },
     "execution_count": 22,
     "metadata": {},
     "output_type": "execute_result"
    }
   ],
   "source": [
    "len(graph.selected_point_ids)"
   ]
  },
  {
   "cell_type": "markdown",
   "metadata": {},
   "source": [
    "2. **Temporal Subsets**: Create subsets of points and links that fall within the selected timeline range"
   ]
  },
  {
   "cell_type": "code",
   "execution_count": 23,
   "metadata": {},
   "outputs": [
    {
     "name": "stdout",
     "output_type": "stream",
     "text": [
      "selected_points.shape=(494, 8)\n",
      "selected_links.shape=(54, 8)\n"
     ]
    }
   ],
   "source": [
    "selected_points = points.loc[points['id'].isin(graph.selected_point_ids)]\n",
    "selected_links = links.loc[links.sourceidx.isin(graph.selected_point_ids) & links.targetidx.isin(graph.selected_point_ids)].copy()\n",
    "print(f\"{selected_points.shape=}\")\n",
    "print(f\"{selected_links.shape=}\")"
   ]
  },
  {
   "cell_type": "markdown",
   "metadata": {},
   "source": [
    "3. **Subgraph of your period of interest**: Create a new visualization focused on our selected time period"
   ]
  },
  {
   "cell_type": "code",
   "execution_count": 24,
   "metadata": {},
   "outputs": [
    {
     "data": {
      "application/vnd.jupyter.widget-view+json": {
       "model_id": "2215e96fbe6e42e580d195a7fe141c8f",
       "version_major": 2,
       "version_minor": 1
      },
      "text/plain": [
       "Cosmograph(background_color=None, disable_point_size_legend=True, focused_point_ring_color=None, hovered_point…"
      ]
     },
     "execution_count": 24,
     "metadata": {},
     "output_type": "execute_result"
    }
   ],
   "source": [
    "cosmo(\n",
    "   points=selected_points,\n",
    "   links=selected_links,\n",
    "   point_id_by='id',\n",
    "   point_color_by='color',\n",
    "   point_color_strategy='actualColor',\n",
    "   disable_point_size_legend=True,\n",
    "\n",
    "   link_source_by='source',\n",
    "   link_target_by='target',\n",
    "\n",
    "   point_timeline_by='date',\n",
    ")"
   ]
  },
  {
   "cell_type": "code",
   "execution_count": null,
   "metadata": {},
   "outputs": [],
   "source": []
  },
  {
   "cell_type": "markdown",
   "metadata": {},
   "source": [
    "### Help"
   ]
  },
  {
   "cell_type": "code",
   "execution_count": 25,
   "metadata": {},
   "outputs": [
    {
     "name": "stdout",
     "output_type": "stream",
     "text": [
      "Help on function cosmo in module cosmograph.base:\n",
      "\n",
      "cosmo(\n",
      "    data=None,\n",
      "    *,\n",
      "    ingress: Sequence[Callable[[Dict[str, Any]], Dict[str, Any]]] = (),\n",
      "    points: object = None,\n",
      "    links: object = None,\n",
      "    point_x_by: str = None,\n",
      "    point_y_by: str = None,\n",
      "    point_size_by: str = None,\n",
      "    point_color_by: str = None,\n",
      "    point_color_palette: list[str] = None,\n",
      "    point_color_by_map: list[list[typing.Union[str, list[float]]]] = None,\n",
      "    point_color_strategy: str = None,\n",
      "    point_label_by: str = None,\n",
      "    point_color: Union[str, list[float]] = None,\n",
      "    point_greyout_opacity: float = None,\n",
      "    point_size: float = None,\n",
      "    point_size_scale: float = None,\n",
      "    point_sampling_distance: int = None,\n",
      "    point_id_by: str = None,\n",
      "    point_index_by: str = None,\n",
      "    point_size_range: list[float] = None,\n",
      "    point_label_weight_by: str = None,\n",
      "    point_cluster_by: str = None,\n",
      "    point_cluster_strength_by: str = None,\n",
      "    point_include_columns: list[str] = None,\n",
      "    point_timeline_by: str = None,\n",
      "    link_color: Union[str, list[float]] = None,\n",
      "    link_greyout_opacity: float = None,\n",
      "    link_width: float = None,\n",
      "    link_width_scale: float = None,\n",
      "    link_arrows: bool = None,\n",
      "    link_arrows_size_scale: float = None,\n",
      "    link_visibility_distance_range: list[float] = None,\n",
      "    link_visibility_min_transparency: float = None,\n",
      "    link_source_by: str = None,\n",
      "    link_source_index_by: str = None,\n",
      "    link_target_by: str = None,\n",
      "    link_target_index_by: str = None,\n",
      "    link_color_by: str = None,\n",
      "    link_width_by: str = None,\n",
      "    link_arrow_by: str = None,\n",
      "    link_strength_by: str = None,\n",
      "    link_strength_range: list[float] = None,\n",
      "    link_include_columns: list[str] = None,\n",
      "    disable_simulation: bool = None,\n",
      "    simulation_decay: float = None,\n",
      "    simulation_gravity: float = None,\n",
      "    simulation_center: float = None,\n",
      "    simulation_repulsion: float = None,\n",
      "    simulation_repulsion_theta: float = None,\n",
      "    simulation_repulsion_quadtree_levels: float = None,\n",
      "    simulation_link_spring: float = None,\n",
      "    simulation_link_distance: float = None,\n",
      "    simulation_link_dist_random_variation_range: list[typing.Any] = None,\n",
      "    simulation_repulsion_from_mouse: float = None,\n",
      "    simulation_friction: float = None,\n",
      "    simulation_cluster: float = None,\n",
      "    background_color: Union[str, list[float]] = None,\n",
      "    space_size: int = None,\n",
      "    hovered_point_cursor: str = None,\n",
      "    render_hovered_point_ring: bool = None,\n",
      "    hovered_point_ring_color: Union[str, list[float]] = None,\n",
      "    focused_point_ring_color: Union[str, list[float]] = None,\n",
      "    focused_point_index: int = None,\n",
      "    render_links: bool = None,\n",
      "    curved_links: bool = None,\n",
      "    curved_link_segments: int = None,\n",
      "    curved_link_weight: float = None,\n",
      "    curved_link_control_point_distance: float = None,\n",
      "    use_quadtree: bool = None,\n",
      "    show_FPS_monitor: bool = None,\n",
      "    pixel_ratio: float = None,\n",
      "    scale_points_on_zoom: bool = None,\n",
      "    initial_zoom_level: float = None,\n",
      "    disable_zoom: bool = None,\n",
      "    enable_drag: bool = None,\n",
      "    fit_view_on_init: bool = None,\n",
      "    fit_view_delay: float = None,\n",
      "    fit_view_padding: float = None,\n",
      "    fit_view_duration: float = None,\n",
      "    fit_view_by_points_in_rect: list[list[float]] = None,\n",
      "    random_seed: Union[int, str] = None,\n",
      "    show_labels: bool = None,\n",
      "    show_dynamic_labels: bool = None,\n",
      "    show_labels_for: list[str] = None,\n",
      "    show_top_labels: bool = None,\n",
      "    show_top_labels_limit: int = None,\n",
      "    show_top_labels_by: str = None,\n",
      "    static_label_weight: float = None,\n",
      "    dynamic_label_weight: float = None,\n",
      "    label_margin: float = None,\n",
      "    show_hovered_point_label: bool = None,\n",
      "    disable_point_size_legend: bool = None,\n",
      "    disable_link_width_legend: bool = None,\n",
      "    disable_point_color_legend: bool = None,\n",
      "    disable_link_color_legend: bool = None,\n",
      "    clicked_point_index: int = None,\n",
      "    clicked_point_id: str = None,\n",
      "    selected_point_indices: list[int] = None,\n",
      "    selected_point_ids: list[str] = None,\n",
      "    changePoints: Callable[[Dict[str, Any]], Any] = None,\n",
      "    changeLinks: Callable[[Dict[str, Any]], Any] = None,\n",
      "    copy_before_ingress: bool = True,\n",
      "    data_resolution: Callable[[Dict[str, Any], Any], Dict[str, Any]] = <function prioritize_points at 0x10f9e9c60>,\n",
      "    validate_kwargs: Callable[[Dict[str, Any]], Dict[str, Any]] = <function validate_kwargs at 0x10f9e9d00>\n",
      ")\n",
      "    Thin layer over CosmographWidget to provide a base interface to the widget object,\n",
      "    with signature, docs with argument descriptions, and a more flexible interface\n",
      "    comprising some data processing, argument aliasing and validation, error handling,\n",
      "    etc.\n",
      "\n",
      "    :param data: Convenience argument whose value will be used for either the points\n",
      "        or links argument.\n",
      "    :param ingress: A function or sequence of functions that will be applied to the\n",
      "        kwargs before they are passed to the Cosmograph constructor.\n",
      "    :param copy_before_ingress: Whether to make a copy of the points and links before\n",
      "        applying the ingress transformations. This is so that the original data is not\n",
      "        modified by the ingress functions.\n",
      "    :param data_resolution: A function that will be used to resolve the data argument.\n",
      "        This is the function that takes care of how to handle the data argument,\n",
      "    :param validate_kwargs: A function that will be applied to the kwargs after the\n",
      "        ingress transformations. This is the function that will validate the kwargs\n",
      "        before they are passed to the Cosmograph constructor.\n",
      "\n",
      "\n",
      "    Parameters\n",
      "    ----------\n",
      "    disable_simulation : bool, default=False\n",
      "        Prevents the simulation from running, merely rendering the graph.\n",
      "    simulation_decay : float, default=1000\n",
      "        Defines how quickly the simulation cools down.\n",
      "    simulation_gravity : float, default=0\n",
      "        Coefficient for gravity force.\n",
      "    simulation_center : float, default=0\n",
      "        Centers the mass force coefficient.\n",
      "    simulation_repulsion : float, default=0.1\n",
      "        Configures point repulsion between points.\n",
      "    simulation_repulsion_theta : float, default=1.7\n",
      "        Decreases / increases the detalization of the Many-Body force calculations.\n",
      "    simulation_repulsion_quadtree_levels : float, default=12\n",
      "        Barnes–Hut approximation depth, usable when useQuadtree is set to True.\n",
      "    simulation_link_spring : float, default=1\n",
      "        Spring constant for links.\n",
      "    simulation_link_distance : float, default=2\n",
      "        Default distance for links.\n",
      "    simulation_link_dist_random_variation_range : list[typing.Any], default=[1, 1.2]\n",
      "        Random link distance range.\n",
      "    simulation_repulsion_from_mouse : float, default=2\n",
      "        Mouse position repulsion coefficient, activated by right-click.\n",
      "    simulation_friction : float, default=0.85\n",
      "        Sets simulation friction.\n",
      "    simulation_cluster : float, default=None\n",
      "\n",
      "    background_color : typing.Union[str, list[float]], default=\"#222222\"\n",
      "        Canvas background color.\n",
      "    space_size : int, default=4096\n",
      "        Size of the simulation space.\n",
      "    point_color : typing.Union[str, list[float]], default=\"#b3b3b3\"\n",
      "        Column name for point colors.\n",
      "    point_greyout_opacity : float, default=0.1\n",
      "        Opacity of unselected nodes during selection.\n",
      "    point_size : float, default=4\n",
      "        Column name for point sizes.\n",
      "    point_size_scale : float, default=1\n",
      "        Scale factor for point sizes.\n",
      "    hovered_point_cursor : str, default=None\n",
      "        Cursor type when hovering over a point.\n",
      "    render_hovered_point_ring : bool, default=False\n",
      "        Enables ring around hovered points.\n",
      "    hovered_point_ring_color : typing.Union[str, list[float]], default=\"white\"\n",
      "        Color of hovered point ring.\n",
      "    focused_point_ring_color : typing.Union[str, list[float]], default=None\n",
      "        Color of the focused point ring.\n",
      "    focused_point_index : int, default=None\n",
      "        Index of the focused point, prioritized over focus_point method.\n",
      "    render_links : bool, default=True\n",
      "        Enables or disables link rendering.\n",
      "    link_color : typing.Union[str, list[float]], default=\"#666666\"\n",
      "        Column name for link colors.\n",
      "    link_greyout_opacity : float, default=0.1\n",
      "        Opacity of unselected links during selection.\n",
      "    link_width : float, default=1\n",
      "        Column name for link widths.\n",
      "    link_width_scale : float, default=1\n",
      "        Scale factor for link widths.\n",
      "    curved_links : bool, default=False\n",
      "        Enables or disables curved links.\n",
      "    curved_link_segments : int, default=19\n",
      "        Segments defining curved links.\n",
      "    curved_link_weight : float, default=0.8\n",
      "        Weight factor for link curvature.\n",
      "    curved_link_control_point_distance : float, default=0.5\n",
      "        Control point positioning for curves.\n",
      "    link_arrows : bool, default=None\n",
      "\n",
      "    link_arrows_size_scale : float, default=1\n",
      "        Scale factor for link arrow size.\n",
      "    link_visibility_distance_range : list[float], default=[50, 150]\n",
      "        Pixel distance range for link transparency.\n",
      "    link_visibility_min_transparency : float, default=0.25\n",
      "        Minimum transparency of links based on link_visibility_distance_range.\n",
      "    use_quadtree : bool, default=False\n",
      "        Activates quadtree algorithm for Many-Body force when set to True.\n",
      "    show_FPS_monitor : bool, default=False\n",
      "        Display an FPS counter in the upper right corner of the canvas.\n",
      "    pixel_ratio : float, default=2\n",
      "        Canvas pixel ratio.\n",
      "    scale_points_on_zoom : bool, default=True\n",
      "        Scales point sizes when zooming.\n",
      "    initial_zoom_level : float, default=3\n",
      "        Starting zoom level.\n",
      "    disable_zoom : bool, default=False\n",
      "        Enables or disables zooming.\n",
      "    enable_drag : bool, default=None\n",
      "        Allows graph dragging.\n",
      "    fit_view_on_init : bool, default=True\n",
      "        Automatically fits view to all points upon initialization.\n",
      "    fit_view_delay : float, default=250\n",
      "        Delay for fitting view after initialization in milliseconds.\n",
      "    fit_view_padding : float, default=None\n",
      "        Padding around fit view area.\n",
      "    fit_view_duration : float, default=None\n",
      "        Animation duration for view fitting in milliseconds.\n",
      "    fit_view_by_points_in_rect : list[list[float]], default=None\n",
      "        Fits view to specified rectangle of points, active when fit_view_on_init is True.\n",
      "    random_seed : typing.Union[int, str], default=None\n",
      "        Seed value for generating random numbers in simulations.\n",
      "    point_sampling_distance : int, default=150\n",
      "        Distance threshold for sampling points.\n",
      "    point_id_by : str, default=None\n",
      "\n",
      "    point_index_by : str, default=None\n",
      "\n",
      "    point_color_by : str, default=None\n",
      "\n",
      "    point_color_palette : list[str], default=None\n",
      "        An optional array of color strings that can be used to color the points in the visualization. If provided, the points will be colored using the colors in this palette, cycling through the array as needed. Used when point_color_strategy is set to `'palette'`, `'interpolatePalette'`, or `'degree'`.\n",
      "    point_color_by_map : list[list[typing.Union[str, list[float]]]], default=None\n",
      "        An optional mapping of values to colors for the points in the visualization. The keys in the map should be string and the values can be either color strings or arrays of RGBA values. Used when point_color_strategy is set to `'map'`.\n",
      "    point_color_strategy : str, default=None\n",
      "        Specifies the strategy for coloring points based on data from the point_color_by column.\n",
      "    point_size_by : str, default=None\n",
      "\n",
      "    point_size_range : list[float], default=None\n",
      "\n",
      "    point_label_by : str, default=None\n",
      "\n",
      "    point_label_weight_by : str, default=None\n",
      "\n",
      "    point_x_by : str, default=None\n",
      "\n",
      "    point_y_by : str, default=None\n",
      "\n",
      "    point_cluster_by : str, default=None\n",
      "\n",
      "    point_cluster_strength_by : str, default=None\n",
      "\n",
      "    point_include_columns : list[str], default=None\n",
      "        An array of additional column names to include in point data.\n",
      "    point_timeline_by : str, default=None\n",
      "        Column to determine values for the timeline. Shows a timeline if set.\n",
      "    link_source_by : str, default=None\n",
      "\n",
      "    link_source_index_by : str, default=None\n",
      "\n",
      "    link_target_by : str, default=None\n",
      "\n",
      "    link_target_index_by : str, default=None\n",
      "\n",
      "    link_color_by : str, default=None\n",
      "\n",
      "    link_width_by : str, default=None\n",
      "\n",
      "    link_arrow_by : str, default=None\n",
      "\n",
      "    link_strength_by : str, default=None\n",
      "\n",
      "    link_strength_range : list[float], default=None\n",
      "\n",
      "    link_include_columns : list[str], default=None\n",
      "        An array of additional column names to include in link data.\n",
      "    show_labels : bool, default=None\n",
      "\n",
      "    show_dynamic_labels : bool, default=None\n",
      "        Flag to show dynamic labels for visible points.\n",
      "    show_labels_for : list[str], default=None\n",
      "        An array of point ids for which to show labels.\n",
      "    show_top_labels : bool, default=None\n",
      "        Flag to display labels for the top points.\n",
      "    show_top_labels_limit : int, default=None\n",
      "        Maximum number of top points to show labels for.\n",
      "    show_top_labels_by : str, default=None\n",
      "        Column to determine which points are considered as a top.\n",
      "    static_label_weight : float, default=None\n",
      "        Weight of static labels.\n",
      "    dynamic_label_weight : float, default=None\n",
      "        Weight of dynamic labels.\n",
      "    label_margin : float, default=None\n",
      "\n",
      "    show_hovered_point_label : bool, default=None\n",
      "        Flag to display the label for the currently hovered point.\n",
      "    disable_point_size_legend : bool, default=None\n",
      "\n",
      "    disable_link_width_legend : bool, default=None\n",
      "\n",
      "    disable_point_color_legend : bool, default=None\n",
      "\n",
      "    disable_link_color_legend : bool, default=None\n",
      "\n",
      "    points : object, default=None\n",
      "        Data in a pandas DataFrame format.\n",
      "    links : object, default=None\n",
      "        Data in a pandas DataFrame format.\n",
      "    clicked_point_index : int, default=None\n",
      "\n",
      "    clicked_point_id : str, default=None\n",
      "\n",
      "    selected_point_indices : list[int], default=None\n",
      "\n",
      "    selected_point_ids : list[str], default=None\n",
      "\n",
      "    changePoints : typing.Callable[[typing.Dict[str, typing.Any]], typing.Any], default=None\n",
      "\n",
      "    changeLinks : typing.Callable[[typing.Dict[str, typing.Any]], typing.Any], default=None\n",
      "\n"
     ]
    }
   ],
   "source": [
    "help(cosmo)"
   ]
  },
  {
   "cell_type": "code",
   "execution_count": null,
   "metadata": {},
   "outputs": [],
   "source": []
  }
 ],
 "metadata": {
  "kernelspec": {
   "display_name": "venv",
   "language": "python",
   "name": "python3"
  },
  "language_info": {
   "codemirror_mode": {
    "name": "ipython",
    "version": 3
   },
   "file_extension": ".py",
   "mimetype": "text/x-python",
   "name": "python",
   "nbconvert_exporter": "python",
   "pygments_lexer": "ipython3",
   "version": "3.13.1"
  }
 },
 "nbformat": 4,
 "nbformat_minor": 2
}
