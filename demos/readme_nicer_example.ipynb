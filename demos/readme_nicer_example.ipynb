{
 "cells": [
  {
   "cell_type": "markdown",
   "id": "d03a483a-785c-4eaf-b91b-fd0ce5584de3",
   "metadata": {},
   "source": [
    "Let's download a big dataset of English words, plus some hyponym-hypernym relationships. (A hyponym-hypernym relationship is a “type-of” relationship where a hyponym is a more specific term (e.g., “dog”) and a hypernym is a broader term (e.g., “animal”).)"
   ]
  },
  {
   "cell_type": "code",
   "execution_count": 1,
   "id": "0c39fc66-ffc7-49f7-be7b-2b78a0426cb9",
   "metadata": {},
   "outputs": [],
   "source": [
    "import pandas as pd\n",
    "from cosmograph import cosmo\n",
    "\n",
    "df = pd.read_parquet('https://www.dropbox.com/scl/fi/4mnk1e2wx31j9mdsjzecy/wordnet_feature_meta.parquet?rlkey=ixjiiso80s1uk4yhx1v38ekhm&dl=1')\n",
    "hyponyms = pd.read_parquet('https://www.dropbox.com/scl/fi/pl72ixv34soo1o8zanfrz/hyponyms.parquet?rlkey=t4d606fmq1uinn29qmli7bx6r&dl=1')"
   ]
  },
  {
   "cell_type": "markdown",
   "id": "2daafc7a-324e-47b2-a504-e4fb2226193a",
   "metadata": {},
   "source": [
    "Peep at the data:"
   ]
  },
  {
   "cell_type": "code",
   "execution_count": 2,
   "id": "5e3ce4d5-1406-41b9-926d-30956d2792e0",
   "metadata": {},
   "outputs": [
    {
     "name": "stdout",
     "output_type": "stream",
     "text": [
      "df.shape=(123587, 8)\n"
     ]
    },
    {
     "data": {
      "text/plain": [
       "word                                                          a\n",
       "frequency                                              0.015441\n",
       "definition    a metric unit of length equal to one ten billi...\n",
       "lexname                                           noun.quantity\n",
       "name                                              angstrom.n.01\n",
       "pos                                                        noun\n",
       "umap_x                                                 3.027916\n",
       "umap_y                                                 3.760965\n",
       "Name: angstrom.n.01.a, dtype: object"
      ]
     },
     "execution_count": 2,
     "metadata": {},
     "output_type": "execute_result"
    }
   ],
   "source": [
    "print(f\"{df.shape=}\")\n",
    "df.iloc[0]"
   ]
  },
  {
   "cell_type": "code",
   "execution_count": 3,
   "id": "7a50d331-ada0-4f80-b57d-9eba83ce64f7",
   "metadata": {},
   "outputs": [
    {
     "name": "stdout",
     "output_type": "stream",
     "text": [
      "hyponyms.shape=(258896, 2)\n"
     ]
    },
    {
     "data": {
      "text/plain": [
       "source           vitamin_a.n.01.a\n",
       "target    vitamin_a1.n.01.retinol\n",
       "Name: 0, dtype: object"
      ]
     },
     "execution_count": 3,
     "metadata": {},
     "output_type": "execute_result"
    }
   ],
   "source": [
    "print(f\"{hyponyms.shape=}\")\n",
    "hyponyms.iloc[0]"
   ]
  },
  {
   "cell_type": "markdown",
   "id": "aca8bd62-1310-466f-a11a-738e2180df43",
   "metadata": {},
   "source": [
    "Let's plot the data using the [UMAP projection](https://umap-learn.readthedocs.io/en/latest/) \n",
    "of the (OpenAI) [embeddings](https://www.deepset.ai/blog/the-beginners-guide-to-text-embeddings)\n",
    "of the words, coloring by \"part-of-speech\" and sizing by the usage frequency of the word.\n"
   ]
  },
  {
   "cell_type": "code",
   "execution_count": 4,
   "id": "cfa834ea-14c3-4bab-8a11-851ffb944b9d",
   "metadata": {},
   "outputs": [
    {
     "data": {
      "application/vnd.jupyter.widget-view+json": {
       "model_id": "8ccb0437485c4dfca6d93340938c2197",
       "version_major": 2,
       "version_minor": 1
      },
      "text/plain": [
       "Cosmograph(background_color=None, disable_point_size_legend=True, focused_point_ring_color=None, hovered_point…"
      ]
     },
     "execution_count": 4,
     "metadata": {},
     "output_type": "execute_result"
    }
   ],
   "source": [
    "cosmo(\n",
    "    df,\n",
    "    point_id_by='lemma',\n",
    "    point_label_by='word',\n",
    "    point_x_by='umap_x',\n",
    "    point_y_by='umap_y',\n",
    "    point_color_by='pos',\n",
    "    point_size_by='frequency',\n",
    "    point_size_scale=6,  # often have to play with this number to get the size right\n",
    "    disable_point_size_legend=True\n",
    ")"
   ]
  },
  {
   "cell_type": "markdown",
   "id": "e7c40d56-e4ba-4d33-be05-70f6b7e517fd",
   "metadata": {},
   "source": [
    "And now, let's put some hypernym-hyponym links, and let the network converge to a stable layout using a force-directed simulation (try it yourself, the convergence is pretty!)"
   ]
  },
  {
   "cell_type": "code",
   "execution_count": 5,
   "id": "c7658d39-668b-4749-818b-27113a350a27",
   "metadata": {},
   "outputs": [
    {
     "data": {
      "application/vnd.jupyter.widget-view+json": {
       "model_id": "cf17dd4b57ca4d34872381b5fcb7defc",
       "version_major": 2,
       "version_minor": 1
      },
      "text/plain": [
       "Cosmograph(background_color=None, disable_point_size_legend=True, focused_point_ring_color=None, hovered_point…"
      ]
     },
     "execution_count": 5,
     "metadata": {},
     "output_type": "execute_result"
    }
   ],
   "source": [
    "cosmo(\n",
    "    points=df,\n",
    "    links=hyponyms,\n",
    "    link_source_by='source',\n",
    "    link_target_by='target',\n",
    "    point_id_by='lemma',\n",
    "    point_label_by='word',\n",
    "    # point_x_by='umap_x',\n",
    "    # point_y_by='umap_y',\n",
    "    point_color_by='pos',\n",
    "    point_size_by='frequency',\n",
    "    point_size_scale=0.2,  # often have to play with this number to get the size right\n",
    "    disable_point_size_legend=True\n",
    ")"
   ]
  },
  {
   "cell_type": "code",
   "execution_count": null,
   "id": "84b45619-37ed-4c1a-a671-7ea0cbbbad1a",
   "metadata": {},
   "outputs": [],
   "source": []
  },
  {
   "cell_type": "code",
   "execution_count": null,
   "id": "461611cd",
   "metadata": {},
   "outputs": [],
   "source": []
  }
 ],
 "metadata": {
  "kernelspec": {
   "display_name": "venv",
   "language": "python",
   "name": "python3"
  },
  "language_info": {
   "codemirror_mode": {
    "name": "ipython",
    "version": 3
   },
   "file_extension": ".py",
   "mimetype": "text/x-python",
   "name": "python",
   "nbconvert_exporter": "python",
   "pygments_lexer": "ipython3",
   "version": "3.13.1"
  }
 },
 "nbformat": 4,
 "nbformat_minor": 5
}
