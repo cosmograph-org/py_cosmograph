{
 "cells": [
  {
   "cell_type": "code",
   "execution_count": 1,
   "id": "8a7e19bd",
   "metadata": {
    "ExecuteTime": {
     "end_time": "2022-12-30T13:06:46.262621Z",
     "start_time": "2022-12-30T13:06:46.243706Z"
    }
   },
   "outputs": [],
   "source": [
    "%load_ext autoreload\n",
    "%autoreload 2"
   ]
  },
  {
   "cell_type": "code",
   "execution_count": null,
   "id": "2e8351c5",
   "metadata": {},
   "outputs": [],
   "source": []
  },
  {
   "cell_type": "markdown",
   "id": "ae52f9b9",
   "metadata": {},
   "source": [
    "# Parsing function signatures out of js code"
   ]
  },
  {
   "cell_type": "code",
   "execution_count": 3,
   "id": "72777e66",
   "metadata": {
    "ExecuteTime": {
     "end_time": "2022-12-30T16:58:49.666457Z",
     "start_time": "2022-12-30T16:58:49.649602Z"
    },
    "scrolled": true
   },
   "outputs": [
    {
     "data": {
      "text/plain": [
       "['mk_new_canvas_and_cosmos_instance',\n",
       " 'scrap',\n",
       " 'js-py-bridge',\n",
       " 'test01',\n",
       " 'mk_api_methods',\n",
       " 'mk_canvas_and_graphs_containers',\n",
       " 'cosmos-iife-bundle']"
      ]
     },
     "execution_count": 3,
     "metadata": {},
     "output_type": "execute_result"
    }
   ],
   "source": [
    "from cosmograph.util import js_files\n",
    "\n",
    "list(js_files)"
   ]
  },
  {
   "cell_type": "code",
   "execution_count": null,
   "id": "dc023af9",
   "metadata": {
    "ExecuteTime": {
     "end_time": "2022-12-30T16:42:20.561411Z",
     "start_time": "2022-12-30T16:42:20.524063Z"
    }
   },
   "outputs": [],
   "source": []
  },
  {
   "cell_type": "code",
   "execution_count": 4,
   "id": "407193f0",
   "metadata": {
    "ExecuteTime": {
     "end_time": "2022-12-30T16:58:51.786134Z",
     "start_time": "2022-12-30T16:58:51.775592Z"
    }
   },
   "outputs": [],
   "source": [
    "test01_js_code = js_files['test01']"
   ]
  },
  {
   "cell_type": "code",
   "execution_count": 7,
   "id": "86a55712",
   "metadata": {
    "ExecuteTime": {
     "end_time": "2022-12-30T16:59:52.768938Z",
     "start_time": "2022-12-30T16:59:52.749206Z"
    }
   },
   "outputs": [],
   "source": [
    "from cosmograph.js_bridge import add_js_call_attributes_to_obj\n",
    "\n",
    "js = add_js_call_attributes_to_obj(test01_js_code)"
   ]
  },
  {
   "cell_type": "code",
   "execution_count": 8,
   "id": "64d5394d",
   "metadata": {
    "ExecuteTime": {
     "end_time": "2022-12-30T16:59:59.006677Z",
     "start_time": "2022-12-30T16:59:58.992003Z"
    }
   },
   "outputs": [
    {
     "data": {
      "text/plain": [
       "['SetData', 'add_one', 'bar', 'foo', 'obj', 'with_const', 'with_let']"
      ]
     },
     "execution_count": 8,
     "metadata": {},
     "output_type": "execute_result"
    }
   ],
   "source": [
    "# js has two methods called bar and foo\n",
    "sorted([x for x in dir(js) if not x.startswith('_')])"
   ]
  },
  {
   "cell_type": "code",
   "execution_count": 9,
   "id": "c46d5e82",
   "metadata": {
    "ExecuteTime": {
     "end_time": "2022-12-30T17:00:42.033110Z",
     "start_time": "2022-12-30T17:00:42.017878Z"
    }
   },
   "outputs": [
    {
     "data": {
      "text/plain": [
       "<Sig (a, b='hello', c=3)>"
      ]
     },
     "execution_count": 9,
     "metadata": {},
     "output_type": "execute_result"
    }
   ],
   "source": [
    "# they mirror the signatures of the underlying JS functions\n",
    "from dol.signatures import Sig\n",
    "Sig(js.foo)"
   ]
  },
  {
   "cell_type": "code",
   "execution_count": 10,
   "id": "d249fc3a",
   "metadata": {
    "ExecuteTime": {
     "end_time": "2022-12-30T17:00:43.910779Z",
     "start_time": "2022-12-30T17:00:43.894907Z"
    }
   },
   "outputs": [
    {
     "data": {
      "text/plain": [
       "<Sig (green, eggs='food', and=True, ham=4)>"
      ]
     },
     "execution_count": 10,
     "metadata": {},
     "output_type": "execute_result"
    }
   ],
   "source": [
    "Sig(js.bar)"
   ]
  },
  {
   "cell_type": "code",
   "execution_count": 11,
   "id": "f4cbacf4",
   "metadata": {
    "ExecuteTime": {
     "end_time": "2022-12-30T17:00:51.901585Z",
     "start_time": "2022-12-30T17:00:51.887028Z"
    }
   },
   "outputs": [
    {
     "data": {
      "text/plain": [
       "'foo(1, \"hi\", 5)'"
      ]
     },
     "execution_count": 11,
     "metadata": {},
     "output_type": "execute_result"
    }
   ],
   "source": [
    "# Calling this function returns a string (the code to call the underlying JS function)\n",
    "js.foo(1, 'hi', 5)"
   ]
  },
  {
   "cell_type": "code",
   "execution_count": 12,
   "id": "9346a549",
   "metadata": {
    "ExecuteTime": {
     "end_time": "2022-12-30T17:02:56.813357Z",
     "start_time": "2022-12-30T17:02:56.802261Z"
    }
   },
   "outputs": [
    {
     "data": {
      "text/plain": [
       "'my_stuff.SetData(\"id\", \"nodes\", \"links\")'"
      ]
     },
     "execution_count": 12,
     "metadata": {},
     "output_type": "execute_result"
    }
   ],
   "source": [
    "# Notice that you can use positional or keyword arguments\n",
    "# Also, notice that though \"SetData\" is the name of js's attribute, \n",
    "# the function call string does indeed use the original full reference: window.SetData\n",
    "js.SetData('id', nodes='nodes', links='links')"
   ]
  },
  {
   "cell_type": "code",
   "execution_count": 14,
   "id": "df231b6c",
   "metadata": {
    "ExecuteTime": {
     "end_time": "2022-12-30T17:03:21.824451Z",
     "start_time": "2022-12-30T17:03:21.816008Z"
    }
   },
   "outputs": [
    {
     "data": {
      "text/plain": [
       "'bar(42, \"food\", true, 4)'"
      ]
     },
     "execution_count": 14,
     "metadata": {},
     "output_type": "execute_result"
    }
   ],
   "source": [
    "# Notice that the python (signature) defaults are applied before translating to JS\n",
    "js.bar(42)"
   ]
  },
  {
   "cell_type": "code",
   "execution_count": 15,
   "id": "55b88218",
   "metadata": {
    "ExecuteTime": {
     "end_time": "2022-12-30T17:04:49.128794Z",
     "start_time": "2022-12-30T17:04:49.107298Z"
    }
   },
   "outputs": [
    {
     "data": {
      "text/plain": [
       "'bar(42)'"
      ]
     },
     "execution_count": 15,
     "metadata": {},
     "output_type": "execute_result"
    }
   ],
   "source": [
    "# You can opt not to do this by specifying apply_defaults=False\n",
    "# This will result in only injecting those inputs you specify in the js call string, \n",
    "# which will have the effect of letting JS apply it's defaults, what ever they are\n",
    "alt_js = add_js_call_attributes_to_obj(test01_js_code, apply_defaults=False)\n",
    "alt_js.bar(42)"
   ]
  },
  {
   "cell_type": "code",
   "execution_count": null,
   "id": "527463bf",
   "metadata": {},
   "outputs": [],
   "source": []
  },
  {
   "cell_type": "code",
   "execution_count": null,
   "id": "cca6c386",
   "metadata": {},
   "outputs": [],
   "source": []
  },
  {
   "cell_type": "code",
   "execution_count": null,
   "id": "0712f810",
   "metadata": {},
   "outputs": [],
   "source": []
  }
 ],
 "metadata": {
  "kernelspec": {
   "display_name": "Python 3 (ipykernel)",
   "language": "python",
   "name": "python3"
  },
  "language_info": {
   "codemirror_mode": {
    "name": "ipython",
    "version": 3
   },
   "file_extension": ".py",
   "mimetype": "text/x-python",
   "name": "python",
   "nbconvert_exporter": "python",
   "pygments_lexer": "ipython3",
   "version": "3.10.8"
  },
  "toc": {
   "base_numbering": 1,
   "nav_menu": {},
   "number_sections": true,
   "sideBar": true,
   "skip_h1_title": false,
   "title_cell": "Table of Contents",
   "title_sidebar": "Contents",
   "toc_cell": false,
   "toc_position": {},
   "toc_section_display": true,
   "toc_window_display": false
  }
 },
 "nbformat": 4,
 "nbformat_minor": 5
}
