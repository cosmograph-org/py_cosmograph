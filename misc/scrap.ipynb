{
 "cells": [
  {
   "cell_type": "code",
   "execution_count": 1,
   "id": "d6abcc74",
   "metadata": {
    "ExecuteTime": {
     "end_time": "2022-12-28T11:17:06.164269Z",
     "start_time": "2022-12-28T11:17:06.142460Z"
    }
   },
   "outputs": [],
   "source": [
    "from functools import partial"
   ]
  },
  {
   "cell_type": "code",
   "execution_count": null,
   "id": "9f39ed61",
   "metadata": {},
   "outputs": [],
   "source": []
  },
  {
   "cell_type": "markdown",
   "id": "bd2ad4ea",
   "metadata": {},
   "source": [
    "# Cosmo"
   ]
  },
  {
   "cell_type": "code",
   "execution_count": 5,
   "id": "99abc021",
   "metadata": {
    "ExecuteTime": {
     "end_time": "2022-12-31T12:02:03.361083Z",
     "start_time": "2022-12-31T12:02:03.353204Z"
    }
   },
   "outputs": [
    {
     "data": {
      "text/html": [
       "\n",
       "        <div id=\"canvas_02\"></div>\n",
       "\n",
       "        <script>\n",
       "            \n",
       "        window.CreateCanvasAndCosmosById(\"canvas_02\", \"400px\", \"100%\")\n",
       "    \n",
       "            AddCanvasToDivById(\"canvas_02\")\n",
       "            if (SetData) SetData(\"canvas_02\", [{\"id\": \"1\"}, {\"id\": \"2\"}, {\"id\": \"3\"}, {\"id\": \"4\"}, {\"id\": \"5\"}], [{\"source\": \"1\", \"target\": \"2\"}, {\"source\": \"2\", \"target\": \"3\"}, {\"source\": \"3\", \"target\": \"4\"}, {\"source\": \"4\", \"target\": \"5\"}, {\"source\": \"5\", \"target\": \"1\"}])\n",
       "        </script>\n",
       "    "
      ],
      "text/plain": [
       "<IPython.core.display.HTML object>"
      ]
     },
     "execution_count": 5,
     "metadata": {},
     "output_type": "execute_result"
    }
   ],
   "source": [
    "cosmo(**TestData.pentagon)"
   ]
  },
  {
   "cell_type": "code",
   "execution_count": 5,
   "id": "30d45af5",
   "metadata": {
    "ExecuteTime": {
     "end_time": "2022-12-28T15:43:21.950636Z",
     "start_time": "2022-12-28T15:43:21.942825Z"
    }
   },
   "outputs": [
    {
     "data": {
      "application/javascript": "\n        cosmosGraph = window.Graphs[\"canvas_01\"]\n        cosmosGraph.fitView()\n    ",
      "text/plain": [
       "<IPython.core.display.Javascript object>"
      ]
     },
     "metadata": {},
     "output_type": "display_data"
    }
   ],
   "source": [
    "fit_view('canvas_01')"
   ]
  },
  {
   "cell_type": "code",
   "execution_count": 6,
   "id": "a0fd27b7",
   "metadata": {
    "ExecuteTime": {
     "end_time": "2022-12-28T15:43:30.823526Z",
     "start_time": "2022-12-28T15:43:30.803531Z"
    }
   },
   "outputs": [
    {
     "data": {
      "application/javascript": "\n        // Save cosmosCanvas and cosmosGraph to the global `window` to reuse them later in the JS code\n        window.cosmosCanvas = document.createElement(\"canvas\");\n        window.cosmosCanvas.style.height = \"400px\";\n        window.cosmosCanvas.style.width = \"100%\";\n        window.Canvases[\"canvas_02\"] = window.cosmosCanvas\n        window.cosmosGraph = new cosmos.Graph(cosmosCanvas);\n        window.Graphs[\"canvas_02\"] = window.cosmosGraph\n    ",
      "text/plain": [
       "<IPython.core.display.Javascript object>"
      ]
     },
     "metadata": {},
     "output_type": "display_data"
    },
    {
     "data": {
      "text/html": [
       "\n",
       "        <div id=\"cosmos\"></div>\n",
       "\n",
       "        <script>\n",
       "            document.querySelector(\"#cosmos\").appendChild(cosmosCanvas);\n",
       "        </script>\n",
       "    "
      ],
      "text/plain": [
       "<IPython.core.display.HTML object>"
      ]
     },
     "metadata": {},
     "output_type": "display_data"
    },
    {
     "data": {
      "application/javascript": "\n        cosmosGraph = window.Graphs[\"canvas_02\"]\n        cosmosGraph.setData([{\"id\": \"1\"}, {\"id\": \"2\"}, {\"id\": \"3\"}, {\"id\": \"4\"}, {\"id\": \"5\"}, {\"id\": \"6\"}], [{\"source\": \"1\", \"target\": \"2\"}, {\"source\": \"2\", \"target\": \"3\"}, {\"source\": \"3\", \"target\": \"4\"}, {\"source\": \"4\", \"target\": \"5\"}, {\"source\": \"5\", \"target\": \"6\"}])\n    ",
      "text/plain": [
       "<IPython.core.display.Javascript object>"
      ]
     },
     "metadata": {},
     "output_type": "display_data"
    },
    {
     "data": {
      "application/javascript": "\n        cosmosGraph = window.Graphs[\"canvas_02\"]\n        cosmosGraph.fitView()\n    ",
      "text/plain": [
       "<IPython.core.display.Javascript object>"
      ]
     },
     "metadata": {},
     "output_type": "display_data"
    },
    {
     "data": {
      "text/plain": [
       "'canvas_02'"
      ]
     },
     "execution_count": 6,
     "metadata": {},
     "output_type": "execute_result"
    }
   ],
   "source": [
    "cosmo(**TestData.six_path)"
   ]
  },
  {
   "cell_type": "code",
   "execution_count": 7,
   "id": "9dc2c672",
   "metadata": {
    "ExecuteTime": {
     "end_time": "2022-12-28T15:43:54.187031Z",
     "start_time": "2022-12-28T15:43:54.177412Z"
    }
   },
   "outputs": [
    {
     "data": {
      "application/javascript": "\n        cosmosGraph = window.Graphs[\"canvas_02\"]\n        cosmosGraph.fitView()\n    ",
      "text/plain": [
       "<IPython.core.display.Javascript object>"
      ]
     },
     "metadata": {},
     "output_type": "display_data"
    }
   ],
   "source": [
    "fit_view('canvas_02')"
   ]
  },
  {
   "cell_type": "code",
   "execution_count": 4,
   "id": "354e876d",
   "metadata": {
    "ExecuteTime": {
     "end_time": "2022-12-29T13:08:14.522707Z",
     "start_time": "2022-12-29T13:08:14.514475Z"
    }
   },
   "outputs": [],
   "source": [
    "%colors Neutral"
   ]
  },
  {
   "cell_type": "code",
   "execution_count": null,
   "id": "65f23f4b",
   "metadata": {},
   "outputs": [],
   "source": []
  },
  {
   "cell_type": "code",
   "execution_count": null,
   "id": "6f654fd8",
   "metadata": {},
   "outputs": [],
   "source": []
  },
  {
   "cell_type": "code",
   "execution_count": null,
   "id": "28c9adc2",
   "metadata": {},
   "outputs": [],
   "source": []
  }
 ],
 "metadata": {
  "kernelspec": {
   "display_name": "Python 3 (ipykernel)",
   "language": "python",
   "name": "python3"
  },
  "language_info": {
   "codemirror_mode": {
    "name": "ipython",
    "version": 3
   },
   "file_extension": ".py",
   "mimetype": "text/x-python",
   "name": "python",
   "nbconvert_exporter": "python",
   "pygments_lexer": "ipython3",
   "version": "3.10.8"
  },
  "toc": {
   "base_numbering": 1,
   "nav_menu": {},
   "number_sections": true,
   "sideBar": true,
   "skip_h1_title": false,
   "title_cell": "Table of Contents",
   "title_sidebar": "Contents",
   "toc_cell": false,
   "toc_position": {},
   "toc_section_display": true,
   "toc_window_display": false
  }
 },
 "nbformat": 4,
 "nbformat_minor": 5
}
