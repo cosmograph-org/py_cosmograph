{
 "cells": [
  {
   "cell_type": "code",
   "execution_count": null,
   "metadata": {},
   "outputs": [],
   "source": []
  },
  {
   "cell_type": "code",
   "execution_count": null,
   "metadata": {},
   "outputs": [],
   "source": []
  },
  {
   "cell_type": "markdown",
   "metadata": {},
   "source": [
    "# argument order"
   ]
  },
  {
   "cell_type": "code",
   "execution_count": 30,
   "metadata": {},
   "outputs": [
    {
     "data": {
      "text/html": [
       "<div>\n",
       "<style scoped>\n",
       "    .dataframe tbody tr th:only-of-type {\n",
       "        vertical-align: middle;\n",
       "    }\n",
       "\n",
       "    .dataframe tbody tr th {\n",
       "        vertical-align: top;\n",
       "    }\n",
       "\n",
       "    .dataframe thead th {\n",
       "        text-align: right;\n",
       "    }\n",
       "</style>\n",
       "<table border=\"1\" class=\"dataframe\">\n",
       "  <thead>\n",
       "    <tr style=\"text-align: right;\">\n",
       "      <th></th>\n",
       "      <th>name</th>\n",
       "      <th>kind</th>\n",
       "      <th>default</th>\n",
       "      <th>annotation</th>\n",
       "    </tr>\n",
       "  </thead>\n",
       "  <tbody>\n",
       "    <tr>\n",
       "      <th>0</th>\n",
       "      <td>data</td>\n",
       "      <td>1</td>\n",
       "      <td>None</td>\n",
       "      <td>&lt;class 'inspect._empty'&gt;</td>\n",
       "    </tr>\n",
       "    <tr>\n",
       "      <th>1</th>\n",
       "      <td>points</td>\n",
       "      <td>3</td>\n",
       "      <td>None</td>\n",
       "      <td>&lt;class 'object'&gt;</td>\n",
       "    </tr>\n",
       "    <tr>\n",
       "      <th>2</th>\n",
       "      <td>links</td>\n",
       "      <td>3</td>\n",
       "      <td>None</td>\n",
       "      <td>&lt;class 'object'&gt;</td>\n",
       "    </tr>\n",
       "    <tr>\n",
       "      <th>3</th>\n",
       "      <td>disable_simulation</td>\n",
       "      <td>3</td>\n",
       "      <td>None</td>\n",
       "      <td>&lt;class 'bool'&gt;</td>\n",
       "    </tr>\n",
       "    <tr>\n",
       "      <th>4</th>\n",
       "      <td>simulation_decay</td>\n",
       "      <td>3</td>\n",
       "      <td>None</td>\n",
       "      <td>&lt;class 'float'&gt;</td>\n",
       "    </tr>\n",
       "    <tr>\n",
       "      <th>...</th>\n",
       "      <td>...</td>\n",
       "      <td>...</td>\n",
       "      <td>...</td>\n",
       "      <td>...</td>\n",
       "    </tr>\n",
       "    <tr>\n",
       "      <th>91</th>\n",
       "      <td>clicked_point_id</td>\n",
       "      <td>3</td>\n",
       "      <td>None</td>\n",
       "      <td>&lt;class 'str'&gt;</td>\n",
       "    </tr>\n",
       "    <tr>\n",
       "      <th>92</th>\n",
       "      <td>selected_point_indices</td>\n",
       "      <td>3</td>\n",
       "      <td>None</td>\n",
       "      <td>list[int]</td>\n",
       "    </tr>\n",
       "    <tr>\n",
       "      <th>93</th>\n",
       "      <td>selected_point_ids</td>\n",
       "      <td>3</td>\n",
       "      <td>None</td>\n",
       "      <td>list[str]</td>\n",
       "    </tr>\n",
       "    <tr>\n",
       "      <th>94</th>\n",
       "      <td>changePoints</td>\n",
       "      <td>3</td>\n",
       "      <td>None</td>\n",
       "      <td>typing.Callable[[typing.Dict[str, typing.Any]]...</td>\n",
       "    </tr>\n",
       "    <tr>\n",
       "      <th>95</th>\n",
       "      <td>changeLinks</td>\n",
       "      <td>3</td>\n",
       "      <td>None</td>\n",
       "      <td>typing.Callable[[typing.Dict[str, typing.Any]]...</td>\n",
       "    </tr>\n",
       "  </tbody>\n",
       "</table>\n",
       "<p>96 rows × 4 columns</p>\n",
       "</div>"
      ],
      "text/plain": [
       "                      name  kind default  \\\n",
       "0                     data     1    None   \n",
       "1                   points     3    None   \n",
       "2                    links     3    None   \n",
       "3       disable_simulation     3    None   \n",
       "4         simulation_decay     3    None   \n",
       "..                     ...   ...     ...   \n",
       "91        clicked_point_id     3    None   \n",
       "92  selected_point_indices     3    None   \n",
       "93      selected_point_ids     3    None   \n",
       "94            changePoints     3    None   \n",
       "95             changeLinks     3    None   \n",
       "\n",
       "                                           annotation  \n",
       "0                            <class 'inspect._empty'>  \n",
       "1                                    <class 'object'>  \n",
       "2                                    <class 'object'>  \n",
       "3                                      <class 'bool'>  \n",
       "4                                     <class 'float'>  \n",
       "..                                                ...  \n",
       "91                                      <class 'str'>  \n",
       "92                                          list[int]  \n",
       "93                                          list[str]  \n",
       "94  typing.Callable[[typing.Dict[str, typing.Any]]...  \n",
       "95  typing.Callable[[typing.Dict[str, typing.Any]]...  \n",
       "\n",
       "[96 rows x 4 columns]"
      ]
     },
     "execution_count": 30,
     "metadata": {},
     "output_type": "execute_result"
    }
   ],
   "source": [
    "import pandas as pd\n",
    "from cosmograph import cosmo\n",
    "from i2 import Sig\n",
    "from i2.signatures import parameter_to_dict\n",
    "\n",
    "cosmo_sig = Sig(cosmo)\n",
    "pd.DataFrame(map(parameter_to_dict, cosmo_sig.params))\n"
   ]
  },
  {
   "cell_type": "code",
   "execution_count": 81,
   "metadata": {},
   "outputs": [
    {
     "name": "stdout",
     "output_type": "stream",
     "text": [
      "\tdata=None,\n",
      "\t*,\n",
      "\tpoints : object = None,\n",
      "\tlinks : object = None,\n",
      "\tpoint_x_by : str = None,\n",
      "\tpoint_y_by : str = None,\n",
      "\tpoint_size_by : str = None,\n",
      "\tpoint_color_by : str = None,\n",
      "\tpoint_label_by : str = None,\n",
      "\tpoint_color : Union[str, list[float]] = None,\n",
      "\tpoint_greyout_opacity : float = None,\n",
      "\tpoint_size : float = None,\n",
      "\tpoint_size_scale : float = None,\n",
      "\tpoint_sampling_distance : int = None,\n",
      "\tpoint_id_by : str = None,\n",
      "\tpoint_index_by : str = None,\n",
      "\tpoint_size_range : list[float] = None,\n",
      "\tpoint_label_weight_by : str = None,\n",
      "\tpoint_cluster_by : str = None,\n",
      "\tpoint_cluster_strength_by : str = None,\n",
      "\tpoint_include_columns : list[str] = None,\n",
      "\tlink_color : Union[str, list[float]] = None,\n",
      "\tlink_greyout_opacity : float = None,\n",
      "\tlink_width : float = None,\n",
      "\tlink_width_scale : float = None,\n",
      "\tlink_arrows : bool = None,\n",
      "\tlink_arrows_size_scale : float = None,\n",
      "\tlink_visibility_distance_range : list[float] = None,\n",
      "\tlink_visibility_min_transparency : float = None,\n",
      "\tlink_source_by : str = None,\n",
      "\tlink_source_index_by : str = None,\n",
      "\tlink_target_by : str = None,\n",
      "\tlink_target_index_by : str = None,\n",
      "\tlink_color_by : str = None,\n",
      "\tlink_width_by : str = None,\n",
      "\tlink_arrow_by : str = None,\n",
      "\tlink_strength_by : str = None,\n",
      "\tlink_strength_range : list[float] = None,\n",
      "\tlink_include_columns : list[str] = None,\n",
      "\tdisable_simulation : bool = None,\n",
      "\tsimulation_decay : float = None,\n",
      "\tsimulation_gravity : float = None,\n",
      "\tsimulation_center : float = None,\n",
      "\tsimulation_repulsion : float = None,\n",
      "\tsimulation_repulsion_theta : float = None,\n",
      "\tsimulation_repulsion_quadtree_levels : float = None,\n",
      "\tsimulation_link_spring : float = None,\n",
      "\tsimulation_link_distance : float = None,\n",
      "\tsimulation_link_dist_random_variation_range : list[Any] = None,\n",
      "\tsimulation_repulsion_from_mouse : float = None,\n",
      "\tsimulation_friction : float = None,\n",
      "\tsimulation_cluster : float = None,\n",
      "\tbackground_color : Union[str, list[float]] = None,\n",
      "\tspace_size : int = None,\n",
      "\thovered_point_cursor : str = None,\n",
      "\trender_hovered_point_ring : bool = None,\n",
      "\thovered_point_ring_color : Union[str, list[float]] = None,\n",
      "\tfocused_point_ring_color : Union[str, list[float]] = None,\n",
      "\tfocused_point_index : int = None,\n",
      "\trender_links : bool = None,\n",
      "\tcurved_links : bool = None,\n",
      "\tcurved_link_segments : int = None,\n",
      "\tcurved_link_weight : float = None,\n",
      "\tcurved_link_control_point_distance : float = None,\n",
      "\tuse_quadtree : bool = None,\n",
      "\tshow_FPS_monitor : bool = None,\n",
      "\tpixel_ratio : float = None,\n",
      "\tscale_points_on_zoom : bool = None,\n",
      "\tinitial_zoom_level : float = None,\n",
      "\tdisable_zoom : bool = None,\n",
      "\tenable_drag : bool = None,\n",
      "\tfit_view_on_init : bool = None,\n",
      "\tfit_view_delay : float = None,\n",
      "\tfit_view_padding : float = None,\n",
      "\tfit_view_duration : float = None,\n",
      "\tfit_view_by_points_in_rect : list[list[float]] = None,\n",
      "\trandom_seed : Union[int, str] = None,\n",
      "\tshow_labels : bool = None,\n",
      "\tshow_dynamic_labels : bool = None,\n",
      "\tshow_labels_for : list[str] = None,\n",
      "\tshow_top_labels : bool = None,\n",
      "\tshow_top_labels_limit : int = None,\n",
      "\tshow_top_labels_by : str = None,\n",
      "\tstatic_label_weight : float = None,\n",
      "\tdynamic_label_weight : float = None,\n",
      "\tlabel_margin : float = None,\n",
      "\tshow_hovered_point_label : bool = None,\n",
      "\tdisable_point_size_legend : bool = None,\n",
      "\tdisable_link_width_legend : bool = None,\n",
      "\tdisable_point_color_legend : bool = None,\n",
      "\tdisable_link_color_legend : bool = None,\n",
      "\tclicked_point_index : int = None,\n",
      "\tclicked_point_id : str = None,\n",
      "\tselected_point_indices : list[int] = None,\n",
      "\tselected_point_ids : list[str] = None,\n",
      "\tchangePoints : Callable[[Dict[str, Any]], Any] = None,\n",
      "\tchangeLinks : Callable[[Dict[str, Any]], Any] = None\n"
     ]
    }
   ],
   "source": [
    "from cosmograph._code_sync import order_cosmo_params, print_param_spec_code_lines\n",
    "\n",
    "old_sig = Sig(cosmo)\n",
    "new_sig = order_cosmo_params(cosmo)\n",
    "print_param_spec_code_lines(new_sig)\n"
   ]
  },
  {
   "cell_type": "code",
   "execution_count": 82,
   "metadata": {},
   "outputs": [
    {
     "name": "stdout",
     "output_type": "stream",
     "text": [
      "old_sig == new_sig = True\n"
     ]
    }
   ],
   "source": [
    "print(f\"{old_sig == new_sig = }\")"
   ]
  },
  {
   "cell_type": "code",
   "execution_count": null,
   "metadata": {},
   "outputs": [],
   "source": []
  },
  {
   "cell_type": "markdown",
   "metadata": {},
   "source": [
    "# Partial cosmo"
   ]
  },
  {
   "cell_type": "code",
   "execution_count": 2,
   "metadata": {},
   "outputs": [],
   "source": [
    "from cosmograph import cosmo\n",
    "import pandas as pd"
   ]
  },
  {
   "cell_type": "code",
   "execution_count": 9,
   "metadata": {},
   "outputs": [
    {
     "name": "stdout",
     "output_type": "stream",
     "text": [
      "df.shape=(123587, 8)\n"
     ]
    },
    {
     "data": {
      "text/plain": [
       "word                                                          a\n",
       "frequency                                              0.015441\n",
       "definition    a metric unit of length equal to one ten billi...\n",
       "lexname                                           noun.quantity\n",
       "name                                              angstrom.n.01\n",
       "pos                                                        noun\n",
       "umap_x                                                 3.027916\n",
       "umap_y                                                 3.760965\n",
       "Name: angstrom.n.01.a, dtype: object"
      ]
     },
     "execution_count": 9,
     "metadata": {},
     "output_type": "execute_result"
    }
   ],
   "source": [
    "src = '/Users/thorwhalen/Dropbox/_odata/figiri/wordnet_words/wordnet_feature_meta.parquet'\n",
    "\n",
    "df = pd.read_parquet(src)\n",
    "print(f\"{df.shape=}\")\n",
    "df.iloc[0]"
   ]
  },
  {
   "cell_type": "code",
   "execution_count": null,
   "metadata": {},
   "outputs": [],
   "source": []
  },
  {
   "cell_type": "code",
   "execution_count": null,
   "metadata": {},
   "outputs": [],
   "source": []
  },
  {
   "cell_type": "code",
   "execution_count": null,
   "metadata": {},
   "outputs": [],
   "source": []
  },
  {
   "cell_type": "code",
   "execution_count": 5,
   "metadata": {},
   "outputs": [
    {
     "name": "stdout",
     "output_type": "stream",
     "text": [
      "        Quest_Title  Map_X  Map_Y Aura_Color  Gear_Size\n",
      "0       Dragon Hunt    120     75    Crimson         15\n",
      "1     Mystic Voyage    450    320      Azure         20\n",
      "2  Treasure Seekers    100    210    Emerald         10\n"
     ]
    },
    {
     "data": {
      "application/vnd.jupyter.widget-view+json": {
       "model_id": "23eed59cb35941e98cdf128f5b6c90f4",
       "version_major": 2,
       "version_minor": 0
      },
      "text/plain": [
       "Cosmograph(background_color=None, focused_point_ring_color=None, hovered_point_ring_color=None, link_color=Non…"
      ]
     },
     "execution_count": 5,
     "metadata": {},
     "output_type": "execute_result"
    }
   ],
   "source": [
    "data = {\n",
    "    'Quest_Title': [\n",
    "        'Dragon Hunt',\n",
    "        'Mystic Voyage',\n",
    "        'Treasure Seekers'\n",
    "    ],\n",
    "    'Map_X': [120, 450, 100],\n",
    "    'Map_Y': [75, 320, 210],\n",
    "    'Aura_Color': ['Crimson', 'Azure', 'Emerald'],\n",
    "    'Gear_Size': [15, 20, 10]\n",
    "}\n",
    "\n",
    "# Create the DataFrame\n",
    "df = pd.DataFrame(data)\n",
    "\n",
    "# Display the DataFrame\n",
    "print(df)\n",
    "\n",
    "cosmo(\n",
    "    df,\n",
    "    point_x_by='Map_X',\n",
    "    point_y_by='Map_Y',\n",
    "    point_color_by='Aura_Color',\n",
    "    point_size_by='Gear_Size',\n",
    "    point_size_scale=7,\n",
    "    point_label_by='Quest_Title',\n",
    ")"
   ]
  },
  {
   "cell_type": "code",
   "execution_count": 4,
   "metadata": {},
   "outputs": [
    {
     "name": "stdout",
     "output_type": "stream",
     "text": [
      "               Potion_Name       Brewmaster  \\\n",
      "0       Elixir of Vitality     Elder Willow   \n",
      "1  Draught of Invisibility  Mistress Shadow   \n",
      "2         Brew of Fireball     Master Ignis   \n",
      "\n",
      "                                    Ingredients  Location_X  Location_Y  \\\n",
      "0  Dragon Scale, Phoenix Feather, Unicorn Tears         500         300   \n",
      "1        Nightshade, Moonflower, Shadow Essence         620         400   \n",
      "2            Fireroot, Lava Crystal, Ember Dust         450         350   \n",
      "\n",
      "  Potion_Color  Potion_Size  \n",
      "0       Golden           25  \n",
      "1  Transparent           30  \n",
      "2      Crimson           20  \n"
     ]
    }
   ],
   "source": [
    "# Example 2: Fantasy Potion Brewing\n",
    "\n",
    "# Define the data with whimsical column names\n",
    "data_potions = {\n",
    "    'Potion_Name': [\n",
    "        'Elixir of Vitality',\n",
    "        'Draught of Invisibility',\n",
    "        'Brew of Fireball'\n",
    "    ],\n",
    "    'Brewmaster': [\n",
    "        'Elder Willow',\n",
    "        'Mistress Shadow',\n",
    "        'Master Ignis'\n",
    "    ],\n",
    "    'Ingredients': [\n",
    "        'Dragon Scale, Phoenix Feather, Unicorn Tears',\n",
    "        'Nightshade, Moonflower, Shadow Essence',\n",
    "        'Fireroot, Lava Crystal, Ember Dust'\n",
    "    ],\n",
    "    'Location_X': [500, 620, 450],\n",
    "    'Location_Y': [300, 400, 350],\n",
    "    'Potion_Color': ['Golden', 'Transparent', 'Crimson'],\n",
    "    'Potion_Size': [25, 30, 20]\n",
    "}\n",
    "\n",
    "# Create the DataFrame\n",
    "df_potions = pd.DataFrame(data_potions)\n",
    "\n",
    "# Display the DataFrame\n",
    "print(df_potions)\n",
    "\n",
    "\n",
    "\n"
   ]
  },
  {
   "cell_type": "code",
   "execution_count": null,
   "metadata": {},
   "outputs": [],
   "source": []
  },
  {
   "cell_type": "code",
   "execution_count": null,
   "metadata": {},
   "outputs": [],
   "source": []
  },
  {
   "cell_type": "code",
   "execution_count": null,
   "metadata": {},
   "outputs": [],
   "source": []
  },
  {
   "cell_type": "code",
   "execution_count": 4,
   "metadata": {},
   "outputs": [
    {
     "ename": "AttributeError",
     "evalue": "'list' object has no attribute 'select_dtypes'",
     "output_type": "error",
     "traceback": [
      "\u001b[0;31m---------------------------------------------------------------------------\u001b[0m",
      "\u001b[0;31mAttributeError\u001b[0m                            Traceback (most recent call last)",
      "Cell \u001b[0;32mIn[4], line 11\u001b[0m\n\u001b[1;32m      4\u001b[0m single_link \u001b[38;5;241m=\u001b[39m {\n\u001b[1;32m      5\u001b[0m     \u001b[38;5;124m'\u001b[39m\u001b[38;5;124mpoints\u001b[39m\u001b[38;5;124m'\u001b[39m: [{\u001b[38;5;124m'\u001b[39m\u001b[38;5;124mid\u001b[39m\u001b[38;5;124m'\u001b[39m: \u001b[38;5;124m'\u001b[39m\u001b[38;5;124m0\u001b[39m\u001b[38;5;124m'\u001b[39m}, {\u001b[38;5;124m'\u001b[39m\u001b[38;5;124mid\u001b[39m\u001b[38;5;124m'\u001b[39m: \u001b[38;5;124m'\u001b[39m\u001b[38;5;124m1\u001b[39m\u001b[38;5;124m'\u001b[39m}],\n\u001b[1;32m      6\u001b[0m     \u001b[38;5;124m'\u001b[39m\u001b[38;5;124mlinks\u001b[39m\u001b[38;5;124m'\u001b[39m: [{\u001b[38;5;124m'\u001b[39m\u001b[38;5;124msource\u001b[39m\u001b[38;5;124m'\u001b[39m: \u001b[38;5;124m'\u001b[39m\u001b[38;5;124m0\u001b[39m\u001b[38;5;124m'\u001b[39m, \u001b[38;5;124m'\u001b[39m\u001b[38;5;124mtarget\u001b[39m\u001b[38;5;124m'\u001b[39m: \u001b[38;5;124m'\u001b[39m\u001b[38;5;124m1\u001b[39m\u001b[38;5;124m'\u001b[39m}],\n\u001b[1;32m      7\u001b[0m }\n\u001b[1;32m      9\u001b[0m points, links \u001b[38;5;241m=\u001b[39m \u001b[38;5;28mmap\u001b[39m(pd\u001b[38;5;241m.\u001b[39mDataFrame, single_link\u001b[38;5;241m.\u001b[39mvalues())\n\u001b[0;32m---> 11\u001b[0m g \u001b[38;5;241m=\u001b[39m \u001b[43mcosmo\u001b[49m\u001b[43m(\u001b[49m\n\u001b[1;32m     12\u001b[0m \u001b[43m    \u001b[49m\u001b[43mpoints\u001b[49m\u001b[38;5;241;43m=\u001b[39;49m\u001b[43m[\u001b[49m\u001b[43m{\u001b[49m\u001b[38;5;124;43m'\u001b[39;49m\u001b[38;5;124;43mid\u001b[39;49m\u001b[38;5;124;43m'\u001b[39;49m\u001b[43m:\u001b[49m\u001b[43m \u001b[49m\u001b[38;5;124;43m'\u001b[39;49m\u001b[38;5;124;43m0\u001b[39;49m\u001b[38;5;124;43m'\u001b[39;49m\u001b[43m}\u001b[49m\u001b[43m,\u001b[49m\u001b[43m \u001b[49m\u001b[43m{\u001b[49m\u001b[38;5;124;43m'\u001b[39;49m\u001b[38;5;124;43mid\u001b[39;49m\u001b[38;5;124;43m'\u001b[39;49m\u001b[43m:\u001b[49m\u001b[43m \u001b[49m\u001b[38;5;124;43m'\u001b[39;49m\u001b[38;5;124;43m1\u001b[39;49m\u001b[38;5;124;43m'\u001b[39;49m\u001b[43m}\u001b[49m\u001b[43m]\u001b[49m\u001b[43m,\u001b[49m\n\u001b[1;32m     13\u001b[0m \u001b[43m    \u001b[49m\u001b[43mlinks\u001b[49m\u001b[38;5;241;43m=\u001b[39;49m\u001b[43m[\u001b[49m\u001b[43m{\u001b[49m\u001b[38;5;124;43m'\u001b[39;49m\u001b[38;5;124;43msource\u001b[39;49m\u001b[38;5;124;43m'\u001b[39;49m\u001b[43m:\u001b[49m\u001b[43m \u001b[49m\u001b[38;5;124;43m'\u001b[39;49m\u001b[38;5;124;43m0\u001b[39;49m\u001b[38;5;124;43m'\u001b[39;49m\u001b[43m,\u001b[49m\u001b[43m \u001b[49m\u001b[38;5;124;43m'\u001b[39;49m\u001b[38;5;124;43mtarget\u001b[39;49m\u001b[38;5;124;43m'\u001b[39;49m\u001b[43m:\u001b[49m\u001b[43m \u001b[49m\u001b[38;5;124;43m'\u001b[39;49m\u001b[38;5;124;43m1\u001b[39;49m\u001b[38;5;124;43m'\u001b[39;49m\u001b[43m}\u001b[49m\u001b[43m]\u001b[49m\u001b[43m,\u001b[49m\n\u001b[1;32m     14\u001b[0m \u001b[43m    \u001b[49m\u001b[43mpoint_id_by\u001b[49m\u001b[38;5;241;43m=\u001b[39;49m\u001b[38;5;124;43m'\u001b[39;49m\u001b[38;5;124;43mid\u001b[39;49m\u001b[38;5;124;43m'\u001b[39;49m\u001b[43m,\u001b[49m\n\u001b[1;32m     15\u001b[0m \u001b[43m    \u001b[49m\u001b[43mlink_source_by\u001b[49m\u001b[38;5;241;43m=\u001b[39;49m\u001b[38;5;124;43m'\u001b[39;49m\u001b[38;5;124;43msource\u001b[39;49m\u001b[38;5;124;43m'\u001b[39;49m\u001b[43m,\u001b[49m\n\u001b[1;32m     16\u001b[0m \u001b[43m    \u001b[49m\u001b[43mlink_target_by\u001b[49m\u001b[38;5;241;43m=\u001b[39;49m\u001b[38;5;124;43m'\u001b[39;49m\u001b[38;5;124;43mtarget\u001b[39;49m\u001b[38;5;124;43m'\u001b[39;49m\u001b[43m,\u001b[49m\n\u001b[1;32m     17\u001b[0m \u001b[43m    \u001b[49m\u001b[43msimulation_gravity\u001b[49m\u001b[38;5;241;43m=\u001b[39;49m\u001b[38;5;241;43m0\u001b[39;49m\u001b[43m,\u001b[49m\n\u001b[1;32m     18\u001b[0m \u001b[43m    \u001b[49m\u001b[43msimulation_center\u001b[49m\u001b[38;5;241;43m=\u001b[39;49m\u001b[38;5;241;43m1\u001b[39;49m\u001b[43m,\u001b[49m\n\u001b[1;32m     19\u001b[0m \u001b[43m)\u001b[49m\n\u001b[1;32m     20\u001b[0m g\n",
      "File \u001b[0;32m~/Dropbox/py/proj/c/py_cosmograph/cosmograph/base.py:144\u001b[0m, in \u001b[0;36mcosmo\u001b[0;34m(data, disable_simulation, simulation_decay, simulation_gravity, simulation_center, simulation_repulsion, simulation_repulsion_theta, simulation_repulsion_quadtree_levels, simulation_link_spring, simulation_link_distance, simulation_link_dist_random_variation_range, simulation_repulsion_from_mouse, simulation_friction, simulation_cluster, background_color, space_size, point_color, point_greyout_opacity, point_size, point_size_scale, hovered_point_cursor, render_hovered_point_ring, hovered_point_ring_color, focused_point_ring_color, focused_point_index, render_links, link_color, link_greyout_opacity, link_width, link_width_scale, curved_links, curved_link_segments, curved_link_weight, curved_link_control_point_distance, link_arrows, link_arrows_size_scale, link_visibility_distance_range, link_visibility_min_transparency, use_quadtree, show_FPS_monitor, pixel_ratio, scale_points_on_zoom, initial_zoom_level, disable_zoom, enable_drag, fit_view_on_init, fit_view_delay, fit_view_padding, fit_view_duration, fit_view_by_points_in_rect, random_seed, point_sampling_distance, point_id_by, point_index_by, point_color_by, point_size_by, point_size_range, point_label_by, point_label_weight_by, point_x_by, point_y_by, point_cluster_by, point_cluster_strength_by, point_include_columns, link_source_by, link_source_index_by, link_target_by, link_target_index_by, link_color_by, link_width_by, link_arrow_by, link_strength_by, link_strength_range, link_include_columns, show_labels, show_dynamic_labels, show_labels_for, show_top_labels, show_top_labels_limit, show_top_labels_by, static_label_weight, dynamic_label_weight, label_margin, show_hovered_point_label, disable_point_size_legend, disable_link_width_legend, disable_point_color_legend, disable_link_color_legend, points, links, clicked_point_index, clicked_point_id, selected_point_indices, selected_point_ids, changePoints, changeLinks)\u001b[0m\n\u001b[1;32m    141\u001b[0m \u001b[38;5;28;01mif\u001b[39;00m \u001b[38;5;124m'\u001b[39m\u001b[38;5;124mpoints\u001b[39m\u001b[38;5;124m'\u001b[39m \u001b[38;5;129;01mnot\u001b[39;00m \u001b[38;5;129;01min\u001b[39;00m kwargs \u001b[38;5;129;01mand\u001b[39;00m \u001b[38;5;124m'\u001b[39m\u001b[38;5;124mlinks\u001b[39m\u001b[38;5;124m'\u001b[39m \u001b[38;5;129;01mnot\u001b[39;00m \u001b[38;5;129;01min\u001b[39;00m kwargs:\n\u001b[1;32m    142\u001b[0m     \u001b[38;5;66;03m# If no data is given, just return a partial function with the kwargs filled in\u001b[39;00m\n\u001b[1;32m    143\u001b[0m     \u001b[38;5;28;01mreturn\u001b[39;00m partial(cosmo, \u001b[38;5;241m*\u001b[39m\u001b[38;5;241m*\u001b[39mkwargs)\n\u001b[0;32m--> 144\u001b[0m \u001b[38;5;28;01mreturn\u001b[39;00m \u001b[43mCosmograph\u001b[49m\u001b[43m(\u001b[49m\u001b[38;5;241;43m*\u001b[39;49m\u001b[38;5;241;43m*\u001b[39;49m\u001b[43mkwargs\u001b[49m\u001b[43m)\u001b[49m\n",
      "File \u001b[0;32m~/.pyenv/versions/3.10.13/envs/p10/lib/python3.10/site-packages/anywidget/widget.py:59\u001b[0m, in \u001b[0;36mAnyWidget.__init__\u001b[0;34m(self, *args, **kwargs)\u001b[0m\n\u001b[1;32m     54\u001b[0m anywidget_traits[_ANYWIDGET_ID_KEY] \u001b[38;5;241m=\u001b[39m t\u001b[38;5;241m.\u001b[39mUnicode(\n\u001b[1;32m     55\u001b[0m     \u001b[38;5;124mf\u001b[39m\u001b[38;5;124m\"\u001b[39m\u001b[38;5;132;01m{\u001b[39;00m\u001b[38;5;28mself\u001b[39m\u001b[38;5;241m.\u001b[39m\u001b[38;5;18m__class__\u001b[39m\u001b[38;5;241m.\u001b[39m\u001b[38;5;18m__module__\u001b[39m\u001b[38;5;132;01m}\u001b[39;00m\u001b[38;5;124m.\u001b[39m\u001b[38;5;132;01m{\u001b[39;00m\u001b[38;5;28mself\u001b[39m\u001b[38;5;241m.\u001b[39m\u001b[38;5;18m__class__\u001b[39m\u001b[38;5;241m.\u001b[39m\u001b[38;5;18m__name__\u001b[39m\u001b[38;5;132;01m}\u001b[39;00m\u001b[38;5;124m\"\u001b[39m\n\u001b[1;32m     56\u001b[0m )\u001b[38;5;241m.\u001b[39mtag(sync\u001b[38;5;241m=\u001b[39m\u001b[38;5;28;01mTrue\u001b[39;00m)\n\u001b[1;32m     58\u001b[0m \u001b[38;5;28mself\u001b[39m\u001b[38;5;241m.\u001b[39madd_traits(\u001b[38;5;241m*\u001b[39m\u001b[38;5;241m*\u001b[39manywidget_traits)\n\u001b[0;32m---> 59\u001b[0m \u001b[38;5;28;43msuper\u001b[39;49m\u001b[43m(\u001b[49m\u001b[43m)\u001b[49m\u001b[38;5;241;43m.\u001b[39;49m\u001b[38;5;21;43m__init__\u001b[39;49m\u001b[43m(\u001b[49m\u001b[38;5;241;43m*\u001b[39;49m\u001b[43margs\u001b[49m\u001b[43m,\u001b[49m\u001b[43m \u001b[49m\u001b[38;5;241;43m*\u001b[39;49m\u001b[38;5;241;43m*\u001b[39;49m\u001b[43mkwargs\u001b[49m\u001b[43m)\u001b[49m\n",
      "File \u001b[0;32m~/.pyenv/versions/3.10.13/envs/p10/lib/python3.10/site-packages/ipywidgets/widgets/widget.py:503\u001b[0m, in \u001b[0;36mWidget.__init__\u001b[0;34m(self, **kwargs)\u001b[0m\n\u001b[1;32m    501\u001b[0m \u001b[38;5;250m\u001b[39m\u001b[38;5;124;03m\"\"\"Public constructor\"\"\"\u001b[39;00m\n\u001b[1;32m    502\u001b[0m \u001b[38;5;28mself\u001b[39m\u001b[38;5;241m.\u001b[39m_model_id \u001b[38;5;241m=\u001b[39m kwargs\u001b[38;5;241m.\u001b[39mpop(\u001b[38;5;124m'\u001b[39m\u001b[38;5;124mmodel_id\u001b[39m\u001b[38;5;124m'\u001b[39m, \u001b[38;5;28;01mNone\u001b[39;00m)\n\u001b[0;32m--> 503\u001b[0m \u001b[38;5;28;43msuper\u001b[39;49m\u001b[43m(\u001b[49m\u001b[43m)\u001b[49m\u001b[38;5;241;43m.\u001b[39;49m\u001b[38;5;21;43m__init__\u001b[39;49m\u001b[43m(\u001b[49m\u001b[38;5;241;43m*\u001b[39;49m\u001b[38;5;241;43m*\u001b[39;49m\u001b[43mkwargs\u001b[49m\u001b[43m)\u001b[49m\n\u001b[1;32m    505\u001b[0m Widget\u001b[38;5;241m.\u001b[39m_call_widget_constructed(\u001b[38;5;28mself\u001b[39m)\n\u001b[1;32m    506\u001b[0m \u001b[38;5;28mself\u001b[39m\u001b[38;5;241m.\u001b[39mopen()\n",
      "File \u001b[0;32m~/.pyenv/versions/3.10.13/envs/p10/lib/python3.10/site-packages/traitlets/traitlets.py:1376\u001b[0m, in \u001b[0;36mHasTraits.__init__\u001b[0;34m(self, *args, **kwargs)\u001b[0m\n\u001b[1;32m   1374\u001b[0m     \u001b[38;5;28;01mdel\u001b[39;00m \u001b[38;5;28mself\u001b[39m\u001b[38;5;241m.\u001b[39mnotify_change\n\u001b[1;32m   1375\u001b[0m     \u001b[38;5;28;01mfor\u001b[39;00m key \u001b[38;5;129;01min\u001b[39;00m changed:\n\u001b[0;32m-> 1376\u001b[0m         \u001b[38;5;28;43mself\u001b[39;49m\u001b[38;5;241;43m.\u001b[39;49m\u001b[43mnotify_change\u001b[49m\u001b[43m(\u001b[49m\u001b[43mchanges\u001b[49m\u001b[43m[\u001b[49m\u001b[43mkey\u001b[49m\u001b[43m]\u001b[49m\u001b[43m)\u001b[49m\n\u001b[1;32m   1378\u001b[0m \u001b[38;5;28;01mtry\u001b[39;00m:\n\u001b[1;32m   1379\u001b[0m     \u001b[38;5;28msuper\u001b[39m()\u001b[38;5;241m.\u001b[39m\u001b[38;5;21m__init__\u001b[39m(\u001b[38;5;241m*\u001b[39msuper_args, \u001b[38;5;241m*\u001b[39m\u001b[38;5;241m*\u001b[39msuper_kwargs)\n",
      "File \u001b[0;32m~/.pyenv/versions/3.10.13/envs/p10/lib/python3.10/site-packages/ipywidgets/widgets/widget.py:701\u001b[0m, in \u001b[0;36mWidget.notify_change\u001b[0;34m(self, change)\u001b[0m\n\u001b[1;32m    698\u001b[0m     \u001b[38;5;28;01mif\u001b[39;00m name \u001b[38;5;129;01min\u001b[39;00m \u001b[38;5;28mself\u001b[39m\u001b[38;5;241m.\u001b[39mkeys \u001b[38;5;129;01mand\u001b[39;00m \u001b[38;5;28mself\u001b[39m\u001b[38;5;241m.\u001b[39m_should_send_property(name, \u001b[38;5;28mgetattr\u001b[39m(\u001b[38;5;28mself\u001b[39m, name)):\n\u001b[1;32m    699\u001b[0m         \u001b[38;5;66;03m# Send new state to front-end\u001b[39;00m\n\u001b[1;32m    700\u001b[0m         \u001b[38;5;28mself\u001b[39m\u001b[38;5;241m.\u001b[39msend_state(key\u001b[38;5;241m=\u001b[39mname)\n\u001b[0;32m--> 701\u001b[0m \u001b[38;5;28;43msuper\u001b[39;49m\u001b[43m(\u001b[49m\u001b[43m)\u001b[49m\u001b[38;5;241;43m.\u001b[39;49m\u001b[43mnotify_change\u001b[49m\u001b[43m(\u001b[49m\u001b[43mchange\u001b[49m\u001b[43m)\u001b[49m\n",
      "File \u001b[0;32m~/.pyenv/versions/3.10.13/envs/p10/lib/python3.10/site-packages/traitlets/traitlets.py:1525\u001b[0m, in \u001b[0;36mHasTraits.notify_change\u001b[0;34m(self, change)\u001b[0m\n\u001b[1;32m   1523\u001b[0m \u001b[38;5;28;01mdef\u001b[39;00m \u001b[38;5;21mnotify_change\u001b[39m(\u001b[38;5;28mself\u001b[39m, change: Bunch) \u001b[38;5;241m-\u001b[39m\u001b[38;5;241m>\u001b[39m \u001b[38;5;28;01mNone\u001b[39;00m:\n\u001b[1;32m   1524\u001b[0m \u001b[38;5;250m    \u001b[39m\u001b[38;5;124;03m\"\"\"Notify observers of a change event\"\"\"\u001b[39;00m\n\u001b[0;32m-> 1525\u001b[0m     \u001b[38;5;28;01mreturn\u001b[39;00m \u001b[38;5;28;43mself\u001b[39;49m\u001b[38;5;241;43m.\u001b[39;49m\u001b[43m_notify_observers\u001b[49m\u001b[43m(\u001b[49m\u001b[43mchange\u001b[49m\u001b[43m)\u001b[49m\n",
      "File \u001b[0;32m~/.pyenv/versions/3.10.13/envs/p10/lib/python3.10/site-packages/traitlets/traitlets.py:1568\u001b[0m, in \u001b[0;36mHasTraits._notify_observers\u001b[0;34m(self, event)\u001b[0m\n\u001b[1;32m   1565\u001b[0m \u001b[38;5;28;01melif\u001b[39;00m \u001b[38;5;28misinstance\u001b[39m(c, EventHandler) \u001b[38;5;129;01mand\u001b[39;00m c\u001b[38;5;241m.\u001b[39mname \u001b[38;5;129;01mis\u001b[39;00m \u001b[38;5;129;01mnot\u001b[39;00m \u001b[38;5;28;01mNone\u001b[39;00m:\n\u001b[1;32m   1566\u001b[0m     c \u001b[38;5;241m=\u001b[39m \u001b[38;5;28mgetattr\u001b[39m(\u001b[38;5;28mself\u001b[39m, c\u001b[38;5;241m.\u001b[39mname)\n\u001b[0;32m-> 1568\u001b[0m \u001b[43mc\u001b[49m\u001b[43m(\u001b[49m\u001b[43mevent\u001b[49m\u001b[43m)\u001b[49m\n",
      "File \u001b[0;32m~/Dropbox/py/proj/c/cosmograph_widget/src/cosmograph_widget/__init__.py:150\u001b[0m, in \u001b[0;36mCosmograph.changePoints\u001b[0;34m(self, change)\u001b[0m\n\u001b[1;32m    147\u001b[0m \u001b[38;5;129m@observe\u001b[39m(\u001b[38;5;124m\"\u001b[39m\u001b[38;5;124mpoints\u001b[39m\u001b[38;5;124m\"\u001b[39m)\n\u001b[1;32m    148\u001b[0m \u001b[38;5;28;01mdef\u001b[39;00m \u001b[38;5;21mchangePoints\u001b[39m(\u001b[38;5;28mself\u001b[39m, change):\n\u001b[1;32m    149\u001b[0m     points \u001b[38;5;241m=\u001b[39m change\u001b[38;5;241m.\u001b[39mnew\n\u001b[0;32m--> 150\u001b[0m     points_int32 \u001b[38;5;241m=\u001b[39m \u001b[43mpoints\u001b[49m\u001b[38;5;241;43m.\u001b[39;49m\u001b[43mselect_dtypes\u001b[49m(include\u001b[38;5;241m=\u001b[39m[\u001b[38;5;124m'\u001b[39m\u001b[38;5;124mint64\u001b[39m\u001b[38;5;124m'\u001b[39m])\u001b[38;5;241m.\u001b[39mastype(\u001b[38;5;124m'\u001b[39m\u001b[38;5;124mint32\u001b[39m\u001b[38;5;124m'\u001b[39m)\n\u001b[1;32m    151\u001b[0m     points[points_int32\u001b[38;5;241m.\u001b[39mcolumns] \u001b[38;5;241m=\u001b[39m points_int32\n\u001b[1;32m    152\u001b[0m     \u001b[38;5;28mself\u001b[39m\u001b[38;5;241m.\u001b[39m_ipc_points \u001b[38;5;241m=\u001b[39m \u001b[38;5;28mself\u001b[39m\u001b[38;5;241m.\u001b[39mget_buffered_arrow_table(points)\n",
      "\u001b[0;31mAttributeError\u001b[0m: 'list' object has no attribute 'select_dtypes'"
     ]
    }
   ],
   "source": [
    "import pandas as pd\n",
    "from cosmograph import cosmo\n",
    "\n",
    "single_link = {\n",
    "    'points': [{'id': '0'}, {'id': '1'}],\n",
    "    'links': [{'source': '0', 'target': '1'}],\n",
    "}\n",
    "\n",
    "points, links = map(pd.DataFrame, single_link.values())\n",
    "\n",
    "g = cosmo(\n",
    "    points=[{'id': '0'}, {'id': '1'}],\n",
    "    links=[{'source': '0', 'target': '1'}],\n",
    "    point_id_by='id',\n",
    "    link_source_by='source',\n",
    "    link_target_by='target',\n",
    "    simulation_gravity=0,\n",
    "    simulation_center=1,\n",
    ")"
   ]
  },
  {
   "cell_type": "code",
   "execution_count": null,
   "metadata": {},
   "outputs": [],
   "source": []
  }
 ],
 "metadata": {
  "kernelspec": {
   "display_name": "p10",
   "language": "python",
   "name": "python3"
  },
  "language_info": {
   "codemirror_mode": {
    "name": "ipython",
    "version": 3
   },
   "file_extension": ".py",
   "mimetype": "text/x-python",
   "name": "python",
   "nbconvert_exporter": "python",
   "pygments_lexer": "ipython3",
   "version": "3.10.13"
  }
 },
 "nbformat": 4,
 "nbformat_minor": 2
}
