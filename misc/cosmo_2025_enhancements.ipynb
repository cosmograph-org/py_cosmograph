{
 "cells": [
  {
   "cell_type": "code",
   "execution_count": null,
   "metadata": {},
   "outputs": [],
   "source": []
  },
  {
   "cell_type": "code",
   "execution_count": null,
   "metadata": {},
   "outputs": [],
   "source": []
  },
  {
   "cell_type": "markdown",
   "metadata": {},
   "source": [
    "# argument order"
   ]
  },
  {
   "cell_type": "code",
   "execution_count": 30,
   "metadata": {},
   "outputs": [
    {
     "data": {
      "text/html": [
       "<div>\n",
       "<style scoped>\n",
       "    .dataframe tbody tr th:only-of-type {\n",
       "        vertical-align: middle;\n",
       "    }\n",
       "\n",
       "    .dataframe tbody tr th {\n",
       "        vertical-align: top;\n",
       "    }\n",
       "\n",
       "    .dataframe thead th {\n",
       "        text-align: right;\n",
       "    }\n",
       "</style>\n",
       "<table border=\"1\" class=\"dataframe\">\n",
       "  <thead>\n",
       "    <tr style=\"text-align: right;\">\n",
       "      <th></th>\n",
       "      <th>name</th>\n",
       "      <th>kind</th>\n",
       "      <th>default</th>\n",
       "      <th>annotation</th>\n",
       "    </tr>\n",
       "  </thead>\n",
       "  <tbody>\n",
       "    <tr>\n",
       "      <th>0</th>\n",
       "      <td>data</td>\n",
       "      <td>1</td>\n",
       "      <td>None</td>\n",
       "      <td>&lt;class 'inspect._empty'&gt;</td>\n",
       "    </tr>\n",
       "    <tr>\n",
       "      <th>1</th>\n",
       "      <td>points</td>\n",
       "      <td>3</td>\n",
       "      <td>None</td>\n",
       "      <td>&lt;class 'object'&gt;</td>\n",
       "    </tr>\n",
       "    <tr>\n",
       "      <th>2</th>\n",
       "      <td>links</td>\n",
       "      <td>3</td>\n",
       "      <td>None</td>\n",
       "      <td>&lt;class 'object'&gt;</td>\n",
       "    </tr>\n",
       "    <tr>\n",
       "      <th>3</th>\n",
       "      <td>disable_simulation</td>\n",
       "      <td>3</td>\n",
       "      <td>None</td>\n",
       "      <td>&lt;class 'bool'&gt;</td>\n",
       "    </tr>\n",
       "    <tr>\n",
       "      <th>4</th>\n",
       "      <td>simulation_decay</td>\n",
       "      <td>3</td>\n",
       "      <td>None</td>\n",
       "      <td>&lt;class 'float'&gt;</td>\n",
       "    </tr>\n",
       "    <tr>\n",
       "      <th>...</th>\n",
       "      <td>...</td>\n",
       "      <td>...</td>\n",
       "      <td>...</td>\n",
       "      <td>...</td>\n",
       "    </tr>\n",
       "    <tr>\n",
       "      <th>91</th>\n",
       "      <td>clicked_point_id</td>\n",
       "      <td>3</td>\n",
       "      <td>None</td>\n",
       "      <td>&lt;class 'str'&gt;</td>\n",
       "    </tr>\n",
       "    <tr>\n",
       "      <th>92</th>\n",
       "      <td>selected_point_indices</td>\n",
       "      <td>3</td>\n",
       "      <td>None</td>\n",
       "      <td>list[int]</td>\n",
       "    </tr>\n",
       "    <tr>\n",
       "      <th>93</th>\n",
       "      <td>selected_point_ids</td>\n",
       "      <td>3</td>\n",
       "      <td>None</td>\n",
       "      <td>list[str]</td>\n",
       "    </tr>\n",
       "    <tr>\n",
       "      <th>94</th>\n",
       "      <td>changePoints</td>\n",
       "      <td>3</td>\n",
       "      <td>None</td>\n",
       "      <td>typing.Callable[[typing.Dict[str, typing.Any]]...</td>\n",
       "    </tr>\n",
       "    <tr>\n",
       "      <th>95</th>\n",
       "      <td>changeLinks</td>\n",
       "      <td>3</td>\n",
       "      <td>None</td>\n",
       "      <td>typing.Callable[[typing.Dict[str, typing.Any]]...</td>\n",
       "    </tr>\n",
       "  </tbody>\n",
       "</table>\n",
       "<p>96 rows × 4 columns</p>\n",
       "</div>"
      ],
      "text/plain": [
       "                      name  kind default  \\\n",
       "0                     data     1    None   \n",
       "1                   points     3    None   \n",
       "2                    links     3    None   \n",
       "3       disable_simulation     3    None   \n",
       "4         simulation_decay     3    None   \n",
       "..                     ...   ...     ...   \n",
       "91        clicked_point_id     3    None   \n",
       "92  selected_point_indices     3    None   \n",
       "93      selected_point_ids     3    None   \n",
       "94            changePoints     3    None   \n",
       "95             changeLinks     3    None   \n",
       "\n",
       "                                           annotation  \n",
       "0                            <class 'inspect._empty'>  \n",
       "1                                    <class 'object'>  \n",
       "2                                    <class 'object'>  \n",
       "3                                      <class 'bool'>  \n",
       "4                                     <class 'float'>  \n",
       "..                                                ...  \n",
       "91                                      <class 'str'>  \n",
       "92                                          list[int]  \n",
       "93                                          list[str]  \n",
       "94  typing.Callable[[typing.Dict[str, typing.Any]]...  \n",
       "95  typing.Callable[[typing.Dict[str, typing.Any]]...  \n",
       "\n",
       "[96 rows x 4 columns]"
      ]
     },
     "execution_count": 30,
     "metadata": {},
     "output_type": "execute_result"
    }
   ],
   "source": [
    "import pandas as pd\n",
    "from cosmograph import cosmo\n",
    "from i2 import Sig\n",
    "from i2.signatures import parameter_to_dict\n",
    "\n",
    "cosmo_sig = Sig(cosmo)\n",
    "pd.DataFrame(map(parameter_to_dict, cosmo_sig.params))\n"
   ]
  },
  {
   "cell_type": "code",
   "execution_count": 81,
   "metadata": {},
   "outputs": [
    {
     "name": "stdout",
     "output_type": "stream",
     "text": [
      "\tdata=None,\n",
      "\t*,\n",
      "\tpoints : object = None,\n",
      "\tlinks : object = None,\n",
      "\tpoint_x_by : str = None,\n",
      "\tpoint_y_by : str = None,\n",
      "\tpoint_size_by : str = None,\n",
      "\tpoint_color_by : str = None,\n",
      "\tpoint_label_by : str = None,\n",
      "\tpoint_color : Union[str, list[float]] = None,\n",
      "\tpoint_greyout_opacity : float = None,\n",
      "\tpoint_size : float = None,\n",
      "\tpoint_size_scale : float = None,\n",
      "\tpoint_sampling_distance : int = None,\n",
      "\tpoint_id_by : str = None,\n",
      "\tpoint_index_by : str = None,\n",
      "\tpoint_size_range : list[float] = None,\n",
      "\tpoint_label_weight_by : str = None,\n",
      "\tpoint_cluster_by : str = None,\n",
      "\tpoint_cluster_strength_by : str = None,\n",
      "\tpoint_include_columns : list[str] = None,\n",
      "\tlink_color : Union[str, list[float]] = None,\n",
      "\tlink_greyout_opacity : float = None,\n",
      "\tlink_width : float = None,\n",
      "\tlink_width_scale : float = None,\n",
      "\tlink_arrows : bool = None,\n",
      "\tlink_arrows_size_scale : float = None,\n",
      "\tlink_visibility_distance_range : list[float] = None,\n",
      "\tlink_visibility_min_transparency : float = None,\n",
      "\tlink_source_by : str = None,\n",
      "\tlink_source_index_by : str = None,\n",
      "\tlink_target_by : str = None,\n",
      "\tlink_target_index_by : str = None,\n",
      "\tlink_color_by : str = None,\n",
      "\tlink_width_by : str = None,\n",
      "\tlink_arrow_by : str = None,\n",
      "\tlink_strength_by : str = None,\n",
      "\tlink_strength_range : list[float] = None,\n",
      "\tlink_include_columns : list[str] = None,\n",
      "\tdisable_simulation : bool = None,\n",
      "\tsimulation_decay : float = None,\n",
      "\tsimulation_gravity : float = None,\n",
      "\tsimulation_center : float = None,\n",
      "\tsimulation_repulsion : float = None,\n",
      "\tsimulation_repulsion_theta : float = None,\n",
      "\tsimulation_repulsion_quadtree_levels : float = None,\n",
      "\tsimulation_link_spring : float = None,\n",
      "\tsimulation_link_distance : float = None,\n",
      "\tsimulation_link_dist_random_variation_range : list[Any] = None,\n",
      "\tsimulation_repulsion_from_mouse : float = None,\n",
      "\tsimulation_friction : float = None,\n",
      "\tsimulation_cluster : float = None,\n",
      "\tbackground_color : Union[str, list[float]] = None,\n",
      "\tspace_size : int = None,\n",
      "\thovered_point_cursor : str = None,\n",
      "\trender_hovered_point_ring : bool = None,\n",
      "\thovered_point_ring_color : Union[str, list[float]] = None,\n",
      "\tfocused_point_ring_color : Union[str, list[float]] = None,\n",
      "\tfocused_point_index : int = None,\n",
      "\trender_links : bool = None,\n",
      "\tcurved_links : bool = None,\n",
      "\tcurved_link_segments : int = None,\n",
      "\tcurved_link_weight : float = None,\n",
      "\tcurved_link_control_point_distance : float = None,\n",
      "\tuse_quadtree : bool = None,\n",
      "\tshow_FPS_monitor : bool = None,\n",
      "\tpixel_ratio : float = None,\n",
      "\tscale_points_on_zoom : bool = None,\n",
      "\tinitial_zoom_level : float = None,\n",
      "\tdisable_zoom : bool = None,\n",
      "\tenable_drag : bool = None,\n",
      "\tfit_view_on_init : bool = None,\n",
      "\tfit_view_delay : float = None,\n",
      "\tfit_view_padding : float = None,\n",
      "\tfit_view_duration : float = None,\n",
      "\tfit_view_by_points_in_rect : list[list[float]] = None,\n",
      "\trandom_seed : Union[int, str] = None,\n",
      "\tshow_labels : bool = None,\n",
      "\tshow_dynamic_labels : bool = None,\n",
      "\tshow_labels_for : list[str] = None,\n",
      "\tshow_top_labels : bool = None,\n",
      "\tshow_top_labels_limit : int = None,\n",
      "\tshow_top_labels_by : str = None,\n",
      "\tstatic_label_weight : float = None,\n",
      "\tdynamic_label_weight : float = None,\n",
      "\tlabel_margin : float = None,\n",
      "\tshow_hovered_point_label : bool = None,\n",
      "\tdisable_point_size_legend : bool = None,\n",
      "\tdisable_link_width_legend : bool = None,\n",
      "\tdisable_point_color_legend : bool = None,\n",
      "\tdisable_link_color_legend : bool = None,\n",
      "\tclicked_point_index : int = None,\n",
      "\tclicked_point_id : str = None,\n",
      "\tselected_point_indices : list[int] = None,\n",
      "\tselected_point_ids : list[str] = None,\n",
      "\tchangePoints : Callable[[Dict[str, Any]], Any] = None,\n",
      "\tchangeLinks : Callable[[Dict[str, Any]], Any] = None\n"
     ]
    }
   ],
   "source": [
    "from cosmograph.dev_utils._code_sync import order_cosmo_params, print_param_spec_code_lines\n",
    "\n",
    "old_sig = Sig(cosmo)\n",
    "new_sig = order_cosmo_params(cosmo)\n",
    "print_param_spec_code_lines(new_sig)\n"
   ]
  },
  {
   "cell_type": "code",
   "execution_count": 82,
   "metadata": {},
   "outputs": [
    {
     "name": "stdout",
     "output_type": "stream",
     "text": [
      "old_sig == new_sig = True\n"
     ]
    }
   ],
   "source": [
    "print(f\"{old_sig == new_sig = }\")"
   ]
  },
  {
   "cell_type": "markdown",
   "metadata": {},
   "source": [
    "## egress"
   ]
  },
  {
   "cell_type": "code",
   "execution_count": 71,
   "metadata": {},
   "outputs": [],
   "source": [
    "from functools import partial\n",
    "from cosmograph import cosmo\n",
    "import pandas as pd\n",
    "\n",
    "from tabled import get_table  # TODO: Replace by pd.read_parquet when url CORS is solved\n",
    "\n",
    "\n",
    "def map_mode(df, *, col='mode', mapping={0: 'Major', 1: 'Minor'}):\n",
    "    assert df[col].value_counts().shape[0] == len(mapping)\n",
    "    df[col] = df[col].replace(mapping)\n",
    "    return df\n"
   ]
  },
  {
   "cell_type": "code",
   "execution_count": 72,
   "metadata": {},
   "outputs": [
    {
     "name": "stdout",
     "output_type": "stream",
     "text": [
      "over_half_bil.shape=(1875, 42)\n",
      "over_half_bil.shape=(1875, 42)\n"
     ]
    },
    {
     "data": {
      "text/plain": [
       "name                                                    Blinding Lights\n",
       "popularity                                                           18\n",
       "explicit                                                          False\n",
       "album_name                                              Blinding Lights\n",
       "album_release_date                                           2019-11-29\n",
       "album_release_year                                                 2019\n",
       "url                   https://open.spotify.com/track/0sf12qNH5qcw8qp...\n",
       "artist_list                                                [The Weeknd]\n",
       "first_artist                                                 The Weeknd\n",
       "id                                               0sf12qNH5qcw8qpgymFOqD\n",
       "duration_ms                                                      201573\n",
       "is_local                                                          False\n",
       "album_total_tracks                                                    1\n",
       "album_images          [{'height': 640, 'url': 'https://i.scdn.co/ima...\n",
       "artists_names                                                The Weeknd\n",
       "type                                                              track\n",
       "episode                                                           False\n",
       "track                                                              True\n",
       "album                 {'album_type': 'single', 'artists': [{'externa...\n",
       "disc_number                                                           1\n",
       "track_number                                                          1\n",
       "artists               [{'external_urls': {'spotify': 'https://open.s...\n",
       "preview_url           https://p.scdn.co/mp3-preview/51c08d92815cce4a...\n",
       "uri                                spotify:track:0sf12qNH5qcw8qpgymFOqD\n",
       "href                  https://api.spotify.com/v1/tracks/0sf12qNH5qcw...\n",
       "available_markets                                                  [KR]\n",
       "external_ids                                   {'isrc': 'USUG11904206'}\n",
       "external_urls         {'spotify': 'https://open.spotify.com/track/0s...\n",
       "acousticness                                                    0.00147\n",
       "danceability                                                      0.512\n",
       "energy                                                            0.796\n",
       "instrumentalness                                               0.000209\n",
       "liveness                                                         0.0938\n",
       "loudness                                                         -4.075\n",
       "speechiness                                                      0.0645\n",
       "valence                                                           0.344\n",
       "tempo                                                           171.014\n",
       "key                                                                   1\n",
       "mode                                                              Minor\n",
       "time_signature                                                        4\n",
       "x                                                             -1.019096\n",
       "y                                                              5.672429\n",
       "Name: 0sf12qNH5qcw8qpgymFOqD, dtype: object"
      ]
     },
     "execution_count": 72,
     "metadata": {},
     "output_type": "execute_result"
    }
   ],
   "source": [
    "over_half_bil_url = 'https://d.cosmograph.app/projects/spotify_playlists/over_500_million_streams.parquet'\n",
    "rolling_stones_500_url = 'https://d.cosmograph.app/projects/spotify_playlists/rolling_stone_500_greatest_songs.parquet'\n",
    "\n",
    "over_half_bil = get_table(over_half_bil_url)\n",
    "rolling_stones_500 = get_table(rolling_stones_500_url)\n",
    "\n",
    "print(f\"{over_half_bil.shape=}\")\n",
    "over_half_bil.iloc[0]\n",
    "\n",
    "\n",
    "assert over_half_bil['mode'].value_counts().shape[0] == 2\n",
    "# replace 0 by \"Major\" and 1 by \"minor\"\n",
    "over_half_bil['mode'] = over_half_bil['mode'].replace({0: 'Major', 1: 'Minor'})\n",
    "\n",
    "print(f\"{over_half_bil.shape=}\")\n",
    "over_half_bil.iloc[0]"
   ]
  },
  {
   "cell_type": "code",
   "execution_count": 73,
   "metadata": {},
   "outputs": [
    {
     "data": {
      "application/vnd.jupyter.widget-view+json": {
       "model_id": "2dff2ed736e64dc989ddf8d591300103",
       "version_major": 2,
       "version_minor": 0
      },
      "text/plain": [
       "Cosmograph(background_color=None, focused_point_ring_color=None, hovered_point_ring_color=None, link_color=Non…"
      ]
     },
     "execution_count": 73,
     "metadata": {},
     "output_type": "execute_result"
    }
   ],
   "source": [
    "# Q: What does point_size and point_range do to the size? What can we do to get the size in a good ballpark?\n",
    "# Q: How can I specify if my color_by is numerical or categorical?\n",
    "# Q: How do I control the color palette?\n",
    "cosmo(\n",
    "    over_half_bil,\n",
    "    point_x_by='x',\n",
    "    point_y_by='y',\n",
    "    point_size_by='popularity',\n",
    "    point_color_by='mode',\n",
    "    point_size_range=(0.01, 0.2),\n",
    ")"
   ]
  },
  {
   "cell_type": "code",
   "execution_count": 10,
   "metadata": {},
   "outputs": [
    {
     "data": {
      "text/plain": [
       "count    1875.00000\n",
       "mean      120.33286\n",
       "std        28.24217\n",
       "min        48.71800\n",
       "25%        98.03300\n",
       "50%       118.81800\n",
       "75%       137.77050\n",
       "max       205.84600\n",
       "Name: tempo, dtype: float64"
      ]
     },
     "execution_count": 10,
     "metadata": {},
     "output_type": "execute_result"
    }
   ],
   "source": [
    "over_half_bil['tempo'].describe()"
   ]
  },
  {
   "cell_type": "code",
   "execution_count": null,
   "metadata": {},
   "outputs": [],
   "source": [
    "\n"
   ]
  },
  {
   "cell_type": "code",
   "execution_count": 74,
   "metadata": {},
   "outputs": [
    {
     "data": {
      "application/vnd.jupyter.widget-view+json": {
       "model_id": "a499c4ae4b424a3f9b14d84451d881aa",
       "version_major": 2,
       "version_minor": 0
      },
      "text/plain": [
       "Cosmograph(background_color=None, focused_point_ring_color=None, hovered_point_ring_color=None, link_color=Non…"
      ]
     },
     "execution_count": 74,
     "metadata": {},
     "output_type": "execute_result"
    }
   ],
   "source": [
    "def custom_color_col(params):\n",
    "    if callable(params.get('point_color_by')):\n",
    "        point_size_by_func = params['point_color_by']\n",
    "        points_copy = params['points'].copy()  # TODO: Perhaps put the copy systematically?\n",
    "        # apply point_color_by_func to each row of points_copy to get the value of _point_color_by column\n",
    "        points_copy['_point_color_by'] = points_copy.apply(point_size_by_func, axis=1)\n",
    "        params['point_color_by'] = '_point_color_by'\n",
    "        params['points'] = points_copy\n",
    "\n",
    "    return params\n",
    "\n",
    "middle_tempo = over_half_bil['tempo'].median() * 1.0\n",
    "\n",
    "cosmo(\n",
    "    over_half_bil,\n",
    "    ingress=custom_color_col, #cosmo.ingress.add(custom_color_col),\n",
    "    point_x_by='x',\n",
    "    point_y_by='y',\n",
    "    point_color_by=lambda x: int(x['tempo'] > middle_tempo),\n",
    "    point_size=0.3,\n",
    ")"
   ]
  },
  {
   "cell_type": "code",
   "execution_count": 75,
   "metadata": {},
   "outputs": [],
   "source": [
    "f = cosmo(\n",
    "    ingress=custom_color_col, #cosmo.ingress.add(custom_color_col),\n",
    "    point_x_by='x',\n",
    "    point_y_by='y',\n",
    "    point_color_by=lambda x: int(x['tempo'] > middle_tempo),\n",
    "    point_size=0.3,\n",
    ")"
   ]
  },
  {
   "cell_type": "code",
   "execution_count": 76,
   "metadata": {},
   "outputs": [
    {
     "data": {
      "application/vnd.jupyter.widget-view+json": {
       "model_id": "8746103c87854df9a8b7ec0391e175f6",
       "version_major": 2,
       "version_minor": 0
      },
      "text/plain": [
       "Cosmograph(background_color=None, focused_point_ring_color=None, hovered_point_ring_color=None, link_color=Non…"
      ]
     },
     "execution_count": 76,
     "metadata": {},
     "output_type": "execute_result"
    }
   ],
   "source": [
    "f(over_half_bil)"
   ]
  },
  {
   "cell_type": "code",
   "execution_count": null,
   "metadata": {},
   "outputs": [],
   "source": []
  },
  {
   "cell_type": "code",
   "execution_count": null,
   "metadata": {},
   "outputs": [],
   "source": []
  },
  {
   "cell_type": "code",
   "execution_count": null,
   "metadata": {},
   "outputs": [],
   "source": []
  },
  {
   "cell_type": "markdown",
   "metadata": {},
   "source": [
    "# Partial cosmo"
   ]
  },
  {
   "cell_type": "code",
   "execution_count": 1,
   "metadata": {},
   "outputs": [],
   "source": [
    "from functools import partial\n",
    "from cosmograph import cosmo\n",
    "import pandas as pd\n",
    "\n",
    "from tabled import get_table  # TODO: Replace by pd.read_parquet when url CORS is solved"
   ]
  },
  {
   "cell_type": "code",
   "execution_count": 2,
   "metadata": {},
   "outputs": [
    {
     "name": "stdout",
     "output_type": "stream",
     "text": [
      "over_half_bil.shape=(1875, 42)\n"
     ]
    },
    {
     "data": {
      "text/plain": [
       "name                                                    Blinding Lights\n",
       "popularity                                                           18\n",
       "explicit                                                          False\n",
       "album_name                                              Blinding Lights\n",
       "album_release_date                                           2019-11-29\n",
       "album_release_year                                                 2019\n",
       "url                   https://open.spotify.com/track/0sf12qNH5qcw8qp...\n",
       "artist_list                                                [The Weeknd]\n",
       "first_artist                                                 The Weeknd\n",
       "id                                               0sf12qNH5qcw8qpgymFOqD\n",
       "duration_ms                                                      201573\n",
       "is_local                                                          False\n",
       "album_total_tracks                                                    1\n",
       "album_images          [{'height': 640, 'url': 'https://i.scdn.co/ima...\n",
       "artists_names                                                The Weeknd\n",
       "type                                                              track\n",
       "episode                                                           False\n",
       "track                                                              True\n",
       "album                 {'album_type': 'single', 'artists': [{'externa...\n",
       "disc_number                                                           1\n",
       "track_number                                                          1\n",
       "artists               [{'external_urls': {'spotify': 'https://open.s...\n",
       "preview_url           https://p.scdn.co/mp3-preview/51c08d92815cce4a...\n",
       "uri                                spotify:track:0sf12qNH5qcw8qpgymFOqD\n",
       "href                  https://api.spotify.com/v1/tracks/0sf12qNH5qcw...\n",
       "available_markets                                                  [KR]\n",
       "external_ids                                   {'isrc': 'USUG11904206'}\n",
       "external_urls         {'spotify': 'https://open.spotify.com/track/0s...\n",
       "acousticness                                                    0.00147\n",
       "danceability                                                      0.512\n",
       "energy                                                            0.796\n",
       "instrumentalness                                               0.000209\n",
       "liveness                                                         0.0938\n",
       "loudness                                                         -4.075\n",
       "speechiness                                                      0.0645\n",
       "valence                                                           0.344\n",
       "tempo                                                           171.014\n",
       "key                                                                   1\n",
       "mode                                                                  1\n",
       "time_signature                                                        4\n",
       "x                                                             -1.019096\n",
       "y                                                              5.672429\n",
       "Name: 0sf12qNH5qcw8qpgymFOqD, dtype: object"
      ]
     },
     "execution_count": 2,
     "metadata": {},
     "output_type": "execute_result"
    }
   ],
   "source": [
    "over_half_bil_url = 'https://d.cosmograph.app/projects/spotify_playlists/over_500_million_streams.parquet'\n",
    "rolling_stones_500_url = 'https://d.cosmograph.app/projects/spotify_playlists/rolling_stone_500_greatest_songs.parquet'\n",
    "\n",
    "over_half_bil = get_table(over_half_bil_url)\n",
    "rolling_stones_500 = get_table(rolling_stones_500_url)\n",
    "\n",
    "print(f\"{over_half_bil.shape=}\")\n",
    "over_half_bil.iloc[0]"
   ]
  },
  {
   "cell_type": "code",
   "execution_count": null,
   "metadata": {},
   "outputs": [],
   "source": [
    "cosmo(\n",
    "    data,\n",
    ")"
   ]
  },
  {
   "cell_type": "code",
   "execution_count": 15,
   "metadata": {},
   "outputs": [
    {
     "name": "stdout",
     "output_type": "stream",
     "text": [
      "        Quest_Title  Map_X  Map_Y Aura_Color  Gear_Size\n",
      "0       Dragon Hunt    120     75    Crimson         15\n",
      "1     Mystic Voyage    450    320      Azure         20\n",
      "2  Treasure Seekers    100    210    Emerald         10\n"
     ]
    },
    {
     "data": {
      "application/vnd.jupyter.widget-view+json": {
       "model_id": "0b1400e6cf0547aebe56697e8a07f6d7",
       "version_major": 2,
       "version_minor": 0
      },
      "text/plain": [
       "Cosmograph(background_color=None, focused_point_ring_color=None, hovered_point_ring_color=None, link_color=Non…"
      ]
     },
     "execution_count": 15,
     "metadata": {},
     "output_type": "execute_result"
    }
   ],
   "source": [
    "data = {\n",
    "    'Quest_Title': [\n",
    "        'Dragon Hunt',\n",
    "        'Mystic Voyage',\n",
    "        'Treasure Seekers'\n",
    "    ],\n",
    "    'Map_X': [120, 450, 100],\n",
    "    'Map_Y': [75, 320, 210],\n",
    "    'Aura_Color': ['Crimson', 'Azure', 'Emerald'],\n",
    "    'Gear_Size': [15, 20, 10]\n",
    "}\n",
    "\n",
    "# Create the DataFrame\n",
    "df = pd.DataFrame(data)\n",
    "\n",
    "# Display the DataFrame\n",
    "print(df)\n",
    "\n",
    "cosmo(\n",
    "    df,\n",
    "    point_x_by='Map_X',\n",
    "    point_y_by='Map_Y',\n",
    "    point_color_by='Aura_Color',\n",
    "    point_size_by='Gear_Size',\n",
    "    point_size_scale=7,\n",
    "    point_label_by='Quest_Title',\n",
    ")"
   ]
  },
  {
   "cell_type": "code",
   "execution_count": null,
   "metadata": {},
   "outputs": [],
   "source": []
  },
  {
   "cell_type": "code",
   "execution_count": 62,
   "metadata": {},
   "outputs": [],
   "source": [
    "data = {\n",
    "    'Quest_Title': [\n",
    "        'Dragon Hunt',\n",
    "        'Mystic Voyage',\n",
    "        'Treasure Seekers'\n",
    "    ],\n",
    "    'Map_X': [120, 450, 100],\n",
    "    'Map_Y': [75, 320, 210],\n",
    "    'Aura_Color': ['Crimson', 'Azure', 'Emerald'],\n",
    "    'Gear_Size': [15, 20, 10]\n",
    "}\n",
    "\n",
    "# Create the DataFrame\n",
    "df = pd.DataFrame(data)\n",
    "\n",
    "graph = cosmo(\n",
    "    df,\n",
    "    point_x_by='Map_X',\n",
    "    point_y_by='Map_Y',\n",
    "    point_color_by='Aura_Color',\n",
    "    point_size_by='Gear_Size',\n",
    "    point_size_scale=7,\n",
    "    point_label_by='Quest_Title',\n",
    ")"
   ]
  },
  {
   "cell_type": "code",
   "execution_count": 63,
   "metadata": {},
   "outputs": [],
   "source": [
    "from i2 import Sig\n",
    "t = set([x for x in dir(graph) if not x.startswith('_')]) - set(Sig(cosmo).names)\n",
    "import anywidget\n",
    "assert isinstance(graph, anywidget.widget.AnyWidget)"
   ]
  },
  {
   "cell_type": "markdown",
   "metadata": {},
   "source": [
    "## Test ingress and partial"
   ]
  },
  {
   "cell_type": "code",
   "execution_count": 30,
   "metadata": {},
   "outputs": [
    {
     "name": "stdout",
     "output_type": "stream",
     "text": [
      "               potion_name       Brewmaster  \\\n",
      "0       Elixir of Vitality     Elder Willow   \n",
      "1  Draught of Invisibility  Mistress Shadow   \n",
      "2         Brew of Fireball     Master Ignis   \n",
      "\n",
      "                                         Ingredients  Location_X  Location_Y  \\\n",
      "0       Dragon Scale, Phoenix Feather, Unicorn Tears         500         300   \n",
      "1             Nightshade, Moonflower, Shadow Essence         620         400   \n",
      "2  Fireroot, Lava Crystal, Unicorn Tears, Ember Dust         450         350   \n",
      "\n",
      "  potion_color  potion_difficulty  potion_popularity  \n",
      "0         Blue                 25                  1  \n",
      "1        White                 30                  2  \n",
      "2          Red                 20                  3  \n"
     ]
    }
   ],
   "source": [
    "# Example 2: Fantasy Potion Brewing\n",
    "\n",
    "# Define the data with whimsical column names\n",
    "data_potions = {\n",
    "    'potion_name': [\n",
    "        'Elixir of Vitality',\n",
    "        'Draught of Invisibility',\n",
    "        'Brew of Fireball'\n",
    "    ],\n",
    "    'Brewmaster': [\n",
    "        'Elder Willow',\n",
    "        'Mistress Shadow',\n",
    "        'Master Ignis'\n",
    "    ],\n",
    "    'Ingredients': [\n",
    "        'Dragon Scale, Phoenix Feather, Unicorn Tears',\n",
    "        'Nightshade, Moonflower, Shadow Essence',\n",
    "        'Fireroot, Lava Crystal, Unicorn Tears, Ember Dust'\n",
    "    ],\n",
    "    'Location_X': [500, 620, 450],\n",
    "    'Location_Y': [300, 400, 350],\n",
    "    'potion_color': ['Blue', 'White', 'Red'],\n",
    "    'potion_difficulty': [25, 30, 20],\n",
    "    'potion_popularity': [1, 2, 3]\n",
    "}\n",
    "\n",
    "# Create the DataFrame\n",
    "df_potions = pd.DataFrame(data_potions)\n",
    "\n",
    "# Display the DataFrame\n",
    "print(df_potions)\n",
    "\n"
   ]
  },
  {
   "cell_type": "code",
   "execution_count": 65,
   "metadata": {},
   "outputs": [
    {
     "data": {
      "application/vnd.jupyter.widget-view+json": {
       "model_id": "b5c596211aff47cb85deafb6d0366c0c",
       "version_major": 2,
       "version_minor": 0
      },
      "text/plain": [
       "Cosmograph(background_color=None, focused_point_ring_color=None, hovered_point_ring_color=None, link_color=Non…"
      ]
     },
     "execution_count": 65,
     "metadata": {},
     "output_type": "execute_result"
    }
   ],
   "source": [
    "from cosmograph import Cosmograph, cosmo\n",
    "\n",
    "asis = cosmo(\n",
    "    df_potions,\n",
    "    point_x_by='Location_X',\n",
    "    point_y_by='Location_Y',\n",
    "    point_label_by='potion_name',\n",
    "    point_size_by='potion_difficulty',\n",
    "    point_color_by='potion_color',\n",
    ")\n",
    "assert isinstance(asis, Cosmograph), 'widget is not Cosmograph!'\n",
    "asis"
   ]
  },
  {
   "cell_type": "code",
   "execution_count": 67,
   "metadata": {},
   "outputs": [
    {
     "data": {
      "application/vnd.jupyter.widget-view+json": {
       "model_id": "818d8cba169b45888e8e5d2be59f1afc",
       "version_major": 2,
       "version_minor": 0
      },
      "text/plain": [
       "Cosmograph(background_color=None, focused_point_ring_color=None, hovered_point_ring_color=None, link_color=Non…"
      ]
     },
     "execution_count": 67,
     "metadata": {},
     "output_type": "execute_result"
    }
   ],
   "source": [
    "my_cosmo = cosmo(\n",
    "    # df_potions,  # not specifying data\n",
    "    point_x_by='Location_X',\n",
    "    point_y_by='Location_Y',\n",
    "    point_label_by='potion_name',\n",
    "    point_size_by='potion_difficulty',\n",
    "    point_color_by='potion_color',\n",
    ")\n",
    "assert callable(my_cosmo), \"Was expecting my_cosmo to be callable!\"\n",
    "assert not isinstance(my_cosmo, Cosmograph), 'my_cosmo is Cosmograph (but should not be)!'\n",
    "\n",
    "widget_from_my_cosmo = my_cosmo(df_potions)  # here you get your widget\n",
    "\n",
    "assert isinstance(widget_from_my_cosmo, Cosmograph), 'widget_from_my_cosmo is not Cosmograph widget!'\n",
    "widget_from_my_cosmo"
   ]
  },
  {
   "cell_type": "code",
   "execution_count": 70,
   "metadata": {},
   "outputs": [
    {
     "name": "stdout",
     "output_type": "stream",
     "text": [
      "TraitError: The 'point_color_by' trait of a Cosmograph instance expected a unicode string, not the function '<lambda>'.\n"
     ]
    }
   ],
   "source": [
    "try:\n",
    "    with_functional_color_failing = my_cosmo(\n",
    "        df_potions,\n",
    "        point_color_by=lambda x: int('Unicorn Tears' in x['Ingredients']),  # replace point_color_by with a function\n",
    "    )\n",
    "    # Expect error:\n",
    "    # TraitError: The 'point_color_by' trait of a Cosmograph instance expected a unicode string, not the function '<lambda>'.\n",
    "except Exception as e:\n",
    "    print(f\"{type(e).__name__}: {e}\")\n"
   ]
  },
  {
   "cell_type": "markdown",
   "metadata": {},
   "source": [
    "Introducing ingress. Ingress is a function, or sequence of functions, that\n",
    "transforms the input arguments before they are passed to the Cosmograph constructor.\n",
    "\n",
    "For instance, you could use it to specify that if point_color_by is a function,\n",
    "it should apply this function to the DataFrame rows, creating a temp column to\n",
    "accumulate the results, and then change the point_color_by argument to be the name\n",
    "of that column, thereby being compliant with the expected types."
   ]
  },
  {
   "cell_type": "code",
   "execution_count": 47,
   "metadata": {},
   "outputs": [
    {
     "data": {
      "application/vnd.jupyter.widget-view+json": {
       "model_id": "47d95dbeebe249289673d0140be8940a",
       "version_major": 2,
       "version_minor": 0
      },
      "text/plain": [
       "Cosmograph(background_color=None, focused_point_ring_color=None, hovered_point_ring_color=None, link_color=Non…"
      ]
     },
     "execution_count": 47,
     "metadata": {},
     "output_type": "execute_result"
    }
   ],
   "source": [
    "def handle_functional_color(kwargs):\n",
    "    if callable(kwargs.get('point_color_by')):\n",
    "        point_color_by_func = kwargs['point_color_by']\n",
    "        points_copy = kwargs['points'].copy()\n",
    "        # apply point_color_by_func to each row of points_copy to get the value of _point_color_by column\n",
    "        points_copy['_point_color_by'] = points_copy.apply(point_color_by_func, axis=1)\n",
    "        kwargs['point_color_by'] = '_point_color_by'\n",
    "        kwargs['points'] = points_copy\n",
    "\n",
    "    return kwargs\n",
    "\n",
    "with_functional_color = my_cosmo(\n",
    "    df_potions,\n",
    "    ingress=handle_functional_color,  # need to add this to be able to handle the functional point_color_by!\n",
    "    point_color_by=lambda x: int('Unicorn Tears' in x['Ingredients']),\n",
    ")\n",
    "with_functional_color"
   ]
  },
  {
   "cell_type": "code",
   "execution_count": null,
   "metadata": {},
   "outputs": [],
   "source": []
  },
  {
   "cell_type": "code",
   "execution_count": null,
   "metadata": {},
   "outputs": [],
   "source": []
  },
  {
   "cell_type": "code",
   "execution_count": null,
   "metadata": {},
   "outputs": [],
   "source": []
  }
 ],
 "metadata": {
  "kernelspec": {
   "display_name": "p10",
   "language": "python",
   "name": "python3"
  },
  "language_info": {
   "codemirror_mode": {
    "name": "ipython",
    "version": 3
   },
   "file_extension": ".py",
   "mimetype": "text/x-python",
   "name": "python",
   "nbconvert_exporter": "python",
   "pygments_lexer": "ipython3",
   "version": "3.10.13"
  }
 },
 "nbformat": 4,
 "nbformat_minor": 2
}
